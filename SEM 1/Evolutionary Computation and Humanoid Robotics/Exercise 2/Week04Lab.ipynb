{
  "cells": [
    {
      "cell_type": "markdown",
      "metadata": {
        "id": "Mn2sjVrwW0PZ"
      },
      "source": [
        "## Student Name:- Vilohit Keshava Murthy Achar\n",
        "\n",
        "## Student Id:- 23077751"
      ]
    },
    {
      "cell_type": "code",
      "execution_count": 1,
      "metadata": {
        "colab": {
          "base_uri": "https://localhost:8080/"
        },
        "id": "E_PmT7_VT006",
        "outputId": "995c3e58-5f7f-40a6-88b5-69e900e49548"
      },
      "outputs": [
        {
          "name": "stdout",
          "output_type": "stream",
          "text": [
            "Requirement already satisfied: deap in /usr/local/lib/python3.10/dist-packages (1.4.1)\n",
            "Requirement already satisfied: matplotlib in /usr/local/lib/python3.10/dist-packages (3.7.1)\n",
            "Requirement already satisfied: numpy in /usr/local/lib/python3.10/dist-packages (from deap) (1.23.5)\n",
            "Requirement already satisfied: contourpy>=1.0.1 in /usr/local/lib/python3.10/dist-packages (from matplotlib) (1.1.1)\n",
            "Requirement already satisfied: cycler>=0.10 in /usr/local/lib/python3.10/dist-packages (from matplotlib) (0.12.0)\n",
            "Requirement already satisfied: fonttools>=4.22.0 in /usr/local/lib/python3.10/dist-packages (from matplotlib) (4.43.0)\n",
            "Requirement already satisfied: kiwisolver>=1.0.1 in /usr/local/lib/python3.10/dist-packages (from matplotlib) (1.4.5)\n",
            "Requirement already satisfied: packaging>=20.0 in /usr/local/lib/python3.10/dist-packages (from matplotlib) (23.2)\n",
            "Requirement already satisfied: pillow>=6.2.0 in /usr/local/lib/python3.10/dist-packages (from matplotlib) (9.4.0)\n",
            "Requirement already satisfied: pyparsing>=2.3.1 in /usr/local/lib/python3.10/dist-packages (from matplotlib) (3.1.1)\n",
            "Requirement already satisfied: python-dateutil>=2.7 in /usr/local/lib/python3.10/dist-packages (from matplotlib) (2.8.2)\n",
            "Requirement already satisfied: six>=1.5 in /usr/local/lib/python3.10/dist-packages (from python-dateutil>=2.7->matplotlib) (1.16.0)\n"
          ]
        }
      ],
      "source": [
        "!pip install deap matplotlib"
      ]
    },
    {
      "cell_type": "markdown",
      "metadata": {
        "id": "-aEVWsCDT007"
      },
      "source": [
        "Import the DEAP tools and useful libraries (random and matplotlib)."
      ]
    },
    {
      "cell_type": "code",
      "execution_count": 2,
      "metadata": {
        "id": "lif3glomT007"
      },
      "outputs": [],
      "source": [
        "from deap import base\n",
        "from deap import creator\n",
        "from deap import tools\n",
        "import numpy as np\n",
        "\n",
        "import random\n",
        "\n",
        "import matplotlib.pyplot as plt"
      ]
    },
    {
      "cell_type": "markdown",
      "metadata": {
        "id": "iSWF8P7BT008"
      },
      "source": [
        "Set our Genetic Algorithm parameters"
      ]
    },
    {
      "cell_type": "code",
      "execution_count": 3,
      "metadata": {
        "id": "PUZq3nEKT008"
      },
      "outputs": [],
      "source": [
        "# Genetic Algorithm constants:\n",
        "POPULATION_SIZE = 500\n",
        "P_CROSSOVER = 0.3  # probability for crossover\n",
        "P_MUTATION = 0.1   # probability for mutating an individual\n",
        "MAX_GENERATIONS = 10\n",
        "MAX_WEIGHT = 1000"
      ]
    },
    {
      "cell_type": "markdown",
      "metadata": {
        "id": "g6HNOy_xT008"
      },
      "source": [
        "Set any problem-specific constants here. In this case we need to know how long the string is."
      ]
    },
    {
      "cell_type": "code",
      "execution_count": 4,
      "metadata": {
        "id": "Xl3wf_EtT009"
      },
      "outputs": [],
      "source": [
        "ONE_MAX_LENGTH = 60  # length of bit string to be optimized"
      ]
    },
    {
      "cell_type": "markdown",
      "metadata": {
        "id": "GWWL9o8_T009"
      },
      "source": [
        "Set the random seed. This is important so that we can reproduce runs later on."
      ]
    },
    {
      "cell_type": "code",
      "execution_count": 5,
      "metadata": {
        "id": "s5Bk2_qPT009"
      },
      "outputs": [],
      "source": [
        "# define a single objective, maximizing fitness strategy:\n",
        "creator.create(\"FitnessMax\", base.Fitness, weights=(1.0,))\n",
        "\n",
        "# create the Individual class based on list:\n",
        "creator.create(\"Individual\", list, fitness=creator.FitnessMax)\n",
        "\n",
        "RANDOM_SEED = 42\n",
        "random.seed(RANDOM_SEED)"
      ]
    },
    {
      "cell_type": "markdown",
      "metadata": {
        "id": "REIwWxytT009"
      },
      "source": [
        "Create our toolbox. Note that we can pull in a bunch of predefined operators to tailor our Evolutionary Algorithm, which, of course, in this case is a GA. Notice that it is possible to create our **own** operators and functions to use, which is what we do with our **oneMaxFitness** function below."
      ]
    },
    {
      "cell_type": "code",
      "execution_count": 6,
      "metadata": {
        "id": "28ECBAHBT009"
      },
      "outputs": [],
      "source": [
        "items = {}\n",
        "for i in range(ONE_MAX_LENGTH):\n",
        "    items[i] = (random.randint(1, 10), random.randint(1, 100))\n",
        "\n",
        "toolbox = base.Toolbox()\n",
        "\n",
        "# create an operator that randomly returns 0 or 1:\n",
        "toolbox.register(\"zeroOrOne\", random.randint, 0, 1)\n",
        "\n",
        "# create the individual operator to fill up an Individual instance:\n",
        "toolbox.register(\"individualCreator\", tools.initRepeat, creator.Individual, toolbox.zeroOrOne, ONE_MAX_LENGTH)\n",
        "\n",
        "# create the population operator to generate a list of individuals:\n",
        "toolbox.register(\"populationCreator\", tools.initRepeat, list, toolbox.individualCreator)\n",
        "\n",
        "# Single-point crossover:\n",
        "toolbox.register(\"mate\", tools.cxOnePoint)\n",
        "\n",
        "# Flip-bit mutation:\n",
        "# indpb: Independent probability for each attribute to be flipped\n",
        "toolbox.register(\"mutate\", tools.mutFlipBit, indpb=1.0/ONE_MAX_LENGTH)\n",
        "\n",
        "# genetic operators:\n",
        "\n",
        "# Tournament selection with tournament size of 3:\n",
        "toolbox.register(\"select\", tools.selTournament, tournsize=3)\n",
        "\n",
        "\n",
        "# fitness calculation:\n",
        "# compute the number of '1's in the individual\n",
        "def oneMaxFitness(individual):\n",
        "    return sum(individual[i] * items[i][0] for i in range(ONE_MAX_LENGTH)),  # return a tuple\n",
        "\n",
        "toolbox.register(\"evaluate\", oneMaxFitness)"
      ]
    },
    {
      "cell_type": "markdown",
      "metadata": {
        "id": "oo8OPGeUT00-"
      },
      "source": [
        "Here is the main GA loop. We will iterate through it up to the MAX_GENERATIONS parameter and then print out our best individual."
      ]
    },
    {
      "cell_type": "code",
      "execution_count": 7,
      "metadata": {
        "colab": {
          "base_uri": "https://localhost:8080/"
        },
        "id": "gEQTzcJhT00-",
        "outputId": "f9c497b8-897a-42cc-b1a7-6bf287699b3d"
      },
      "outputs": [
        {
          "name": "stdout",
          "output_type": "stream",
          "text": [
            "- Generation 0: Avg Fitness = 180.66 Max Fitness = 226.0, \n",
            "- Generation 1: Avg Fitness = 196.69 Max Fitness = 240.0, \n",
            "- Generation 2: Avg Fitness = 207.594 Max Fitness = 239.0, \n",
            "- Generation 3: Avg Fitness = 216.27 Max Fitness = 262.0, \n",
            "- Generation 4: Avg Fitness = 225.374 Max Fitness = 262.0, \n",
            "- Generation 5: Avg Fitness = 234.47 Max Fitness = 265.0, \n",
            "- Generation 6: Avg Fitness = 243.034 Max Fitness = 270.0, \n",
            "- Generation 7: Avg Fitness = 251.214 Max Fitness = 276.0, \n",
            "- Generation 8: Avg Fitness = 258.1 Max Fitness = 282.0, \n",
            "- Generation 9: Avg Fitness = 263.628 Max Fitness = 286.0, \n",
            "Best Individual =  1 1 1 1 1 1 1 1 1 1 1 1 1 1 0 1 1 1 0 1 1 1 0 1 0 0 1 1 0 1 1 1 1 1 1 1 1 1 0 0 0 0 0 1 1 1 1 1 1 1 1 1 0 1 1 0 1 1 1 1 \n",
            "\n"
          ]
        }
      ],
      "source": [
        "# create initial population (generation 0):\n",
        "population = toolbox.populationCreator(n=POPULATION_SIZE)\n",
        "# Statistics to keep track of\n",
        "stats = tools.Statistics(lambda ind: ind.fitness.values)\n",
        "stats.register(\"avg\", np.mean)\n",
        "stats.register(\"max\", np.max)\n",
        "gen_stats = []\n",
        "for gen in range(MAX_GENERATIONS):\n",
        "      fitnessValues = list(map(toolbox.evaluate, population))\n",
        "    # while max(fitnessValues) < ONE_MAX_LENGTH:\n",
        "      for individual, fitnessValue in zip(population, fitnessValues):\n",
        "          individual.fitness.values = fitnessValue\n",
        "\n",
        "      # apply the selection operator, to select the next generation's individuals:\n",
        "      offspring = toolbox.select(population, len(population))\n",
        "      # clone the selected individuals:\n",
        "      offspring = list(map(toolbox.clone, offspring))\n",
        "\n",
        "      # apply the crossover operator to pairs of offspring:\n",
        "      for child1, child2 in zip(offspring[::2], offspring[1::2]):\n",
        "          if random.random() < P_CROSSOVER:\n",
        "              toolbox.mate(child1, child2)\n",
        "              del child1.fitness.values\n",
        "              del child2.fitness.values\n",
        "\n",
        "      for mutant in offspring:\n",
        "          if random.random() < P_MUTATION:\n",
        "              toolbox.mutate(mutant)\n",
        "              del mutant.fitness.values\n",
        "\n",
        "      freshIndividuals = [ind for ind in offspring if not ind.fitness.valid]\n",
        "      freshFitnessValues = list(map(toolbox.evaluate, freshIndividuals))\n",
        "      for individual, fitnessValue in zip(freshIndividuals, freshFitnessValues):\n",
        "          individual.fitness.values = fitnessValue\n",
        "\n",
        "      population[:] = offspring\n",
        "      record = stats.compile(population)\n",
        "      record = {\n",
        "              \"gen\": gen,\n",
        "              \"avg\": np.mean([ind.fitness.values[0] for ind in population]),\n",
        "              \"max\": np.max([ind.fitness.values[0] for ind in population])\n",
        "          }\n",
        "      gen_stats.append(record)\n",
        "      print(\"- Generation {}: Avg Fitness = {} Max Fitness = {}, \".format(gen, record['avg'], record['max']))\n",
        "\n",
        "\n",
        "# find and print best individual:\n",
        "best_index = fitnessValues.index(max(fitnessValues))\n",
        "print(\"Best Individual = \", *population[best_index], \"\\n\")\n",
        "\n",
        "# best_ind = tools.selBest(population, 1)[0]\n",
        "# total_weight = sum(items[i][1] for i in range(ONE_MAX_LENGTH) if best_ind[i] == 1)\n",
        "# print(\"\\nBest Individual:\")\n",
        "# print(\"Items selected:\", best_ind)\n",
        "# print(\"Total Value:\", best_ind.fitness.values[0])\n",
        "# print(\"Total Weight:\", total_weight)"
      ]
    },
    {
      "cell_type": "markdown",
      "metadata": {
        "id": "x-5Vprd2T00-"
      },
      "source": [
        "Now that we're done, let's print out some statistics. Generally we record (at least) the max and average over time."
      ]
    },
    {
      "cell_type": "code",
      "execution_count": 8,
      "metadata": {
        "colab": {
          "base_uri": "https://localhost:8080/",
          "height": 564
        },
        "id": "eVBGi3OyT00-",
        "outputId": "7ea43117-036c-4383-f0dc-2adcf544885b"
      },
      "outputs": [
        {
          "data": {
            "image/png": "[encoded data removed]",
            "text/plain": [
              "<Figure size 1200x600 with 1 Axes>"
            ]
          },
          "metadata": {},
          "output_type": "display_data"
        }
      ],
      "source": [
        "# Genetic Algorithm is done - plot statistics:\n",
        "#sns.set_style(\"whitegrid\")\n",
        "gen_numbers = [record['gen'] for record in gen_stats]\n",
        "avg_fitness = [record['avg'] for record in gen_stats]\n",
        "max_fitness = [record['max'] for record in gen_stats]\n",
        "\n",
        "plt.figure(figsize=(12, 6))\n",
        "plt.plot(gen_numbers, avg_fitness, label=\"Average Fitness\")\n",
        "plt.plot(gen_numbers, max_fitness, label=\"Best Fitness\")\n",
        "plt.xlabel(\"Generation\")\n",
        "plt.ylabel(\"Fitness\")\n",
        "plt.legend()\n",
        "plt.title(\"Kanpsack Problem\")\n",
        "plt.grid(True)\n",
        "plt.show()"
      ]
    }
  ],
  "metadata": {
    "colab": {
      "provenance": []
    },
    "kernelspec": {
      "display_name": "Python 3",
      "language": "python",
      "name": "python3"
    },
    "language_info": {
      "codemirror_mode": {
        "name": "ipython",
        "version": 3
      },
      "file_extension": ".py",
      "mimetype": "text/x-python",
      "name": "python",
      "nbconvert_exporter": "python",
      "pygments_lexer": "ipython3",
      "version": "3.8.3"
    }
  },
  "nbformat": 4,
  "nbformat_minor": 0
}

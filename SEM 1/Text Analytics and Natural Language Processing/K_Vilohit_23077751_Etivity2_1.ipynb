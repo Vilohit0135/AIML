{
  "nbformat": 4,
  "nbformat_minor": 0,
  "metadata": {
    "colab": {
      "provenance": []
    },
    "kernelspec": {
      "name": "python3",
      "display_name": "Python 3"
    },
    "language_info": {
      "name": "python"
    }
  },
  "cells": [
    {
      "cell_type": "markdown",
      "source": [
        "##Student Name:- Vilohit Keshava Murthy Achar\n",
        "## Student Id:- 23077751"
      ],
      "metadata": {
        "id": "F0JckuP0Dej6"
      }
    },
    {
      "cell_type": "markdown",
      "source": [
        "## TASK 1"
      ],
      "metadata": {
        "id": "ATvWQaE9DWrk"
      }
    },
    {
      "cell_type": "code",
      "execution_count": 17,
      "metadata": {
        "id": "-2aJDqsa48ih"
      },
      "outputs": [],
      "source": [
        "import time\n",
        "\n",
        "#How many insertions, deletions, or substitutions does it take to turn x into y?\n",
        "def edDistRecursive(x, y):\n",
        "    def is_letter(char):\n",
        "        return char.isalpha()\n",
        "\n",
        "    # If either x or y are empty, then one or more (depending on their length) INSERTIONS or DELECTIONS are needed to transform x to y.\n",
        "    if len(x) == 0:\n",
        "        #print(f'\\t Converting \"{x}\" TO \"{y}\" requires {len(y)} INSERTIONS, therefor it costs {len(y)}')\n",
        "        return len(y)\n",
        "    if len(y) == 0:\n",
        "        #print(f'\\t Converting \"{x}\" TO \"{y}\" requires {len(x)} DELETIONS, therefor it costs {len(x)}')\n",
        "        return len(x)\n",
        "\n",
        "    # When neither x or y are empty, we must compute the cost of each operation and find the least costly one.\n",
        "    if is_letter(x[-1]) and is_letter(y[-1]):\n",
        "        delta = 2 if x[-1] != y[-1] else 0  # substitution cost is 2 for letters\n",
        "    else:\n",
        "        delta = 1  # substitution cost is 1 for other characters\n",
        "\n",
        "    diagonal_or_substitution_cost = edDistRecursive(x[:-1], y[:-1]) + delta #what's the cost of SUBSTITUTING the last character of x with the last character of y\n",
        "    vertical_or_deletion_cost     = edDistRecursive(x[:-1], y)      + 1     #what's the cost of DELETING the last character of x\n",
        "    horizontal_or_insertion_cost  = edDistRecursive(x, y[:-1])      + 1     #what's the cost of INSERTING the last character of x into y\n",
        "\n",
        "    # what's the least costly operation?\n",
        "    minValue = min(diagonal_or_substitution_cost, vertical_or_deletion_cost, horizontal_or_insertion_cost)\n",
        "    return minValue\n"
      ]
    },
    {
      "cell_type": "code",
      "source": [
        "start = time.time()\n",
        "x = \"intention\"\n",
        "y = \"execution\"\n",
        "print(\"Edit distance between \"+x+\" and \" +y+\" is \", edDistRecursive(x,y))\n",
        "end = time.time()\n",
        "print((end-start))"
      ],
      "metadata": {
        "colab": {
          "base_uri": "https://localhost:8080/"
        },
        "id": "iO59WrKE8GO4",
        "outputId": "8c85fa9b-eaa4-40fe-b54c-2b0dba48bac3"
      },
      "execution_count": 21,
      "outputs": [
        {
          "output_type": "stream",
          "name": "stdout",
          "text": [
            "Edit distance between intention and execution is  8\n",
            "1.6585006713867188\n"
          ]
        }
      ]
    },
    {
      "cell_type": "markdown",
      "source": [
        "## Task 2"
      ],
      "metadata": {
        "id": "lLrrM_3tDw8U"
      }
    },
    {
      "cell_type": "code",
      "source": [
        "!pip install names-dataset"
      ],
      "metadata": {
        "colab": {
          "base_uri": "https://localhost:8080/"
        },
        "id": "5LSG8QG_D_US",
        "outputId": "983af145-8bbe-4776-9580-18e75cb66c13"
      },
      "execution_count": 23,
      "outputs": [
        {
          "output_type": "stream",
          "name": "stdout",
          "text": [
            "Collecting names-dataset\n",
            "  Downloading names-dataset-3.1.0.tar.gz (58.4 MB)\n",
            "\u001b[2K     \u001b[90m━━━━━━━━━━━━━━━━━━━━━━━━━━━━━━━━━━━━━━━━\u001b[0m \u001b[32m58.4/58.4 MB\u001b[0m \u001b[31m10.1 MB/s\u001b[0m eta \u001b[36m0:00:00\u001b[0m\n",
            "\u001b[?25h  Preparing metadata (setup.py) ... \u001b[?25l\u001b[?25hdone\n",
            "Collecting pycountry (from names-dataset)\n",
            "  Downloading pycountry-22.3.5.tar.gz (10.1 MB)\n",
            "\u001b[2K     \u001b[90m━━━━━━━━━━━━━━━━━━━━━━━━━━━━━━━━━━━━━━━━\u001b[0m \u001b[32m10.1/10.1 MB\u001b[0m \u001b[31m96.2 MB/s\u001b[0m eta \u001b[36m0:00:00\u001b[0m\n",
            "\u001b[?25h  Installing build dependencies ... \u001b[?25l\u001b[?25hdone\n",
            "  Getting requirements to build wheel ... \u001b[?25l\u001b[?25hdone\n",
            "  Preparing metadata (pyproject.toml) ... \u001b[?25l\u001b[?25hdone\n",
            "Requirement already satisfied: setuptools in /usr/local/lib/python3.10/dist-packages (from pycountry->names-dataset) (67.7.2)\n",
            "Building wheels for collected packages: names-dataset, pycountry\n",
            "  Building wheel for names-dataset (setup.py) ... \u001b[?25l\u001b[?25hdone\n",
            "  Created wheel for names-dataset: filename=names_dataset-3.1.0-py3-none-any.whl size=116832759 sha256=1c0058d0945465150dfe53a5b5c2d955dafb6a74e82c6cbadc0ae150a42e32ab\n",
            "  Stored in directory: /root/.cache/pip/wheels/cf/f8/43/0c4aba87b34e971e7255a41f11dc0035c5e55b026dc3480986\n",
            "  Building wheel for pycountry (pyproject.toml) ... \u001b[?25l\u001b[?25hdone\n",
            "  Created wheel for pycountry: filename=pycountry-22.3.5-py2.py3-none-any.whl size=10681833 sha256=81d14a67046b4768dd68b7c20fca686826ee9c2402fd73ef25232211d013aa39\n",
            "  Stored in directory: /root/.cache/pip/wheels/03/57/cc/290c5252ec97a6d78d36479a3c5e5ecc76318afcb241ad9dbe\n",
            "Successfully built names-dataset pycountry\n",
            "Installing collected packages: pycountry, names-dataset\n",
            "Successfully installed names-dataset-3.1.0 pycountry-22.3.5\n"
          ]
        }
      ]
    },
    {
      "cell_type": "code",
      "source": [
        "!pip install jellyfish"
      ],
      "metadata": {
        "colab": {
          "base_uri": "https://localhost:8080/"
        },
        "id": "jHdmKWpOEJ5t",
        "outputId": "7518d683-d164-426a-ada4-de4e7ec4d46a"
      },
      "execution_count": 24,
      "outputs": [
        {
          "output_type": "stream",
          "name": "stdout",
          "text": [
            "Collecting jellyfish\n",
            "  Downloading jellyfish-1.0.1-cp310-cp310-manylinux_2_17_x86_64.manylinux2014_x86_64.whl (1.2 MB)\n",
            "\u001b[2K     \u001b[90m━━━━━━━━━━━━━━━━━━━━━━━━━━━━━━━━━━━━━━━━\u001b[0m \u001b[32m1.2/1.2 MB\u001b[0m \u001b[31m10.5 MB/s\u001b[0m eta \u001b[36m0:00:00\u001b[0m\n",
            "\u001b[?25hInstalling collected packages: jellyfish\n",
            "Successfully installed jellyfish-1.0.1\n"
          ]
        }
      ]
    },
    {
      "cell_type": "markdown",
      "source": [
        "## A."
      ],
      "metadata": {
        "id": "XsBlT6_ZM8pu"
      }
    },
    {
      "cell_type": "code",
      "source": [
        "from names_dataset import NameDataset, NameWrapper\n",
        "nd = NameDataset()"
      ],
      "metadata": {
        "id": "JxCSkrX0Kx-G"
      },
      "execution_count": 34,
      "outputs": []
    },
    {
      "cell_type": "code",
      "source": [
        "def Name(name):\n",
        "  return nd.search(name)"
      ],
      "metadata": {
        "id": "32XQ-lN8EWHe"
      },
      "execution_count": 37,
      "outputs": []
    },
    {
      "cell_type": "code",
      "source": [
        "firstname = \"Vilohit\"\n",
        "lastname = \"Achar\"\n",
        "Name(firstname)"
      ],
      "metadata": {
        "colab": {
          "base_uri": "https://localhost:8080/"
        },
        "id": "6bPmRB3WLIBn",
        "outputId": "ce9e7c29-9cfc-4bf9-c0e1-4132c67ad584"
      },
      "execution_count": 42,
      "outputs": [
        {
          "output_type": "execute_result",
          "data": {
            "text/plain": [
              "{'first_name': None, 'last_name': None}"
            ]
          },
          "metadata": {},
          "execution_count": 42
        }
      ]
    },
    {
      "cell_type": "code",
      "source": [
        "Name(lastname)"
      ],
      "metadata": {
        "colab": {
          "base_uri": "https://localhost:8080/"
        },
        "id": "YsBFx4FYLmh0",
        "outputId": "30f46153-417f-4555-f88f-95d194d3ae4e"
      },
      "execution_count": 43,
      "outputs": [
        {
          "output_type": "execute_result",
          "data": {
            "text/plain": [
              "{'first_name': None,\n",
              " 'last_name': {'country': {'United Arab Emirates': 0.09,\n",
              "   'Argentina': 0.027,\n",
              "   'Bahrain': 0.021,\n",
              "   'Algeria': 0.12,\n",
              "   'France': 0.039,\n",
              "   'India': 0.214,\n",
              "   'Morocco': 0.242,\n",
              "   'Oman': 0.071,\n",
              "   'Saudi Arabia': 0.066,\n",
              "   'United States': 0.108},\n",
              "  'gender': {},\n",
              "  'rank': {'United Arab Emirates': 7459,\n",
              "   'Argentina': 7714,\n",
              "   'Bahrain': 5172,\n",
              "   'Algeria': 14059,\n",
              "   'India': 3100,\n",
              "   'Morocco': 10693,\n",
              "   'Oman': 7376,\n",
              "   'France': None,\n",
              "   'Saudi Arabia': None,\n",
              "   'United States': None}}}"
            ]
          },
          "metadata": {},
          "execution_count": 43
        }
      ]
    },
    {
      "cell_type": "markdown",
      "source": [
        "## B."
      ],
      "metadata": {
        "id": "77deFXEdNAlu"
      }
    },
    {
      "cell_type": "code",
      "source": [
        "import jellyfish as jf\n",
        "def jelSoundex(name):\n",
        "  return jf.soundex(name)"
      ],
      "metadata": {
        "id": "Xwk0cXBwLqb9"
      },
      "execution_count": 52,
      "outputs": []
    },
    {
      "cell_type": "code",
      "source": [
        "jelSoundex(firstname)"
      ],
      "metadata": {
        "colab": {
          "base_uri": "https://localhost:8080/",
          "height": 36
        },
        "id": "UvuPHUyZMb1G",
        "outputId": "12375652-930b-416c-de35-f0f5554f11c8"
      },
      "execution_count": 53,
      "outputs": [
        {
          "output_type": "execute_result",
          "data": {
            "text/plain": [
              "'V430'"
            ],
            "application/vnd.google.colaboratory.intrinsic+json": {
              "type": "string"
            }
          },
          "metadata": {},
          "execution_count": 53
        }
      ]
    },
    {
      "cell_type": "code",
      "source": [
        "jelSoundex(lastname)"
      ],
      "metadata": {
        "colab": {
          "base_uri": "https://localhost:8080/",
          "height": 36
        },
        "id": "nZMyftwIMTc5",
        "outputId": "4a519b90-e7b4-43b0-bcd5-da887fc1b5da"
      },
      "execution_count": 54,
      "outputs": [
        {
          "output_type": "execute_result",
          "data": {
            "text/plain": [
              "'A260'"
            ],
            "application/vnd.google.colaboratory.intrinsic+json": {
              "type": "string"
            }
          },
          "metadata": {},
          "execution_count": 54
        }
      ]
    },
    {
      "cell_type": "markdown",
      "source": [
        "## C."
      ],
      "metadata": {
        "id": "VYYyx_0UNDpV"
      }
    },
    {
      "cell_type": "code",
      "source": [
        "def C(firstname):\n",
        "  firstNameSoundex = jf.soundex(firstname)\n",
        "  dictSoundex = {}\n",
        "  for name in nd.first_names:\n",
        "    if jf.soundex(name) in dictSoundex:\n",
        "      dictSoundex[jf.soundex(name)].append(name)\n",
        "    else:\n",
        "      dictSoundex[jf.soundex(name)] = [name]\n",
        "  print(dictSoundex[firstNameSoundex])"
      ],
      "metadata": {
        "id": "VUTwkKjANIxL"
      },
      "execution_count": 63,
      "outputs": []
    },
    {
      "cell_type": "code",
      "source": [
        "C(firstname)"
      ],
      "metadata": {
        "colab": {
          "base_uri": "https://localhost:8080/"
        },
        "id": "8PDd6K-EOQ8D",
        "outputId": "dcfa615b-99d5-4cf6-ded0-b65f8e1a9399"
      },
      "execution_count": 65,
      "outputs": [
        {
          "output_type": "stream",
          "name": "stdout",
          "text": [
            "['Vailet', 'Vaileth', 'Valat', 'Vald', 'Valda', 'Valde', 'Valdei', 'Valdey', 'Valdi', 'Valdo', 'Valdy', 'Vale De', 'Valeda', 'Valeed', 'Valet', 'Valeta', 'Valete', 'Valeto', 'Valette', 'Valid', 'Valida', 'Valide', 'Validə', 'Valiid', 'Valiita', 'Valiot', 'Valit', 'Valita', 'Valitha', 'Valito', 'Valiyat', 'Vallet', 'Valletta', 'Vallitta', 'Vallot', 'Valo-Dea', 'Valod', 'Valoda', 'Valode', 'Valodea', 'Valodia', 'Valodiya', 'Valodya', 'Valta', 'Valte', 'Valtea', 'Valteo', 'Valto', 'Valtti', 'Valuta', 'Valyd', 'Valyte', 'Valytė', 'Valódia', 'Vaylette', 'Vayolet', 'Vayoleth', 'Velat', 'Velayat', 'Velda', 'Veled', 'Velet', 'Veleta', 'Velid', 'Velida', 'Velide', 'Veliid', 'Velit', 'Velleda', 'Velodi', 'Velta', 'Vialaud', 'Viioletta', 'Vilayat', 'Vilayattu', 'Vilayet', 'Vilayət', 'Vild', 'Vilda', 'Vilde', 'Vildia', 'Vildt', 'Vildė', 'Vileta', 'Vilida', 'Vilita', 'Vilito', 'Viliute', 'Villat', 'Villeda', 'Villito', 'Vilte', 'Viltė', 'Vilyta', 'Vilyte', 'Vioelta', 'Violet', 'Violeta', 'Violetaa', 'Violete', 'Violeth', 'Violetha', 'Violeto', 'Violett', 'Violetta', 'Violette', 'Violetë', 'Violieta', 'Viollet', 'Violleta', 'Violletta', 'Violėta', 'Viyaleta', 'Vlad', 'Vlada', 'Vladdy', 'Vlade', 'Vladee', 'Vladi', 'Vladia', 'Vladii', 'Vlado', 'Vladoo', 'Vladu', 'Vlady', 'Vladí', 'Vlaďa', 'Vleta', 'Vláda', 'Vládia', 'Vládí', 'Vláďa', 'Voilet', 'Voleta', 'Voleti', 'Volette', 'Voloda', 'Volodea', 'Volodia', 'Volodya', 'Voloďa', 'Volt', 'Volta', 'Volte', 'Volti', 'Voltio', 'Vuleta', 'Vuyolethu', 'Vuyolwethu', 'Vuyolwetu', 'Vyolletta', 'Váldi', 'Vıoleta']\n"
          ]
        }
      ]
    },
    {
      "cell_type": "markdown",
      "source": [
        "## D."
      ],
      "metadata": {
        "id": "Ek7zChUnOHN_"
      }
    },
    {
      "cell_type": "code",
      "source": [
        "def levDistance(firstname,lastname):\n",
        "  return jf.levenshtein_distance(firstname,lastname)"
      ],
      "metadata": {
        "id": "ezgp7VT5OCmV"
      },
      "execution_count": 61,
      "outputs": []
    },
    {
      "cell_type": "code",
      "source": [
        "levDistance(firstname,lastname)"
      ],
      "metadata": {
        "colab": {
          "base_uri": "https://localhost:8080/"
        },
        "id": "gGnxUswdPDXM",
        "outputId": "61d223ed-d81b-41cb-a92b-2f3188d831fb"
      },
      "execution_count": 62,
      "outputs": [
        {
          "output_type": "execute_result",
          "data": {
            "text/plain": [
              "6"
            ]
          },
          "metadata": {},
          "execution_count": 62
        }
      ]
    }
  ]
}
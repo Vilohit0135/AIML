{
  "nbformat": 4,
  "nbformat_minor": 0,
  "metadata": {
    "colab": {
      "provenance": []
    },
    "kernelspec": {
      "name": "python3",
      "display_name": "Python 3"
    },
    "language_info": {
      "name": "python"
    }
  },
  "cells": [
    {
      "cell_type": "markdown",
      "source": [
        "## Student Name: - Vilohit Keshava Murthy Achar\n",
        "## Student ID :- 2307751"
      ],
      "metadata": {
        "id": "F9rdvhOhgMjl"
      }
    },
    {
      "cell_type": "markdown",
      "source": [
        "# Task 4 :-"
      ],
      "metadata": {
        "id": "xNmzkiY2gXCD"
      }
    },
    {
      "cell_type": "code",
      "execution_count": 1,
      "metadata": {
        "id": "happj1VCgLFl"
      },
      "outputs": [],
      "source": [
        "trainingSet = [('London is the Capital of GB', 'GB'), ('Oxford is a city in GB', 'GB'), ('Dublin is the capital of Ireland', 'IE'),('Limerick is a city in Ireland', 'IE')]\n",
        "\n",
        "testset = [('University of Limerick', 'IE'), ('University College Dublin', 'IE'), ('Imperial College London','GB'), ('University of Oxford', 'GB'), ('Ireland & GB','GB')]"
      ]
    },
    {
      "cell_type": "code",
      "source": [
        "import nltk\n",
        "nltk.download('punkt')"
      ],
      "metadata": {
        "colab": {
          "base_uri": "https://localhost:8080/"
        },
        "id": "f_pdEhHglySA",
        "outputId": "226e4b1d-6bea-423e-e568-4047f46bcbf9"
      },
      "execution_count": 2,
      "outputs": [
        {
          "output_type": "stream",
          "name": "stderr",
          "text": [
            "[nltk_data] Downloading package punkt to /root/nltk_data...\n",
            "[nltk_data]   Package punkt is already up-to-date!\n"
          ]
        },
        {
          "output_type": "execute_result",
          "data": {
            "text/plain": [
              "True"
            ]
          },
          "metadata": {},
          "execution_count": 2
        }
      ]
    },
    {
      "cell_type": "code",
      "source": [
        "from textblob.classifiers import NaiveBayesClassifier\n",
        "\n",
        "def naiveBayesClassifier(trainingSet, testSet):\n",
        "    # Train the Naive Bayes Classifier\n",
        "    cl = NaiveBayesClassifier(trainingSet)\n",
        "\n",
        "    # Test the classifier and print out the accuracy\n",
        "    accuracy = cl.accuracy(testSet)\n",
        "    print(\"Accuracy:\", accuracy)\n",
        "\n",
        "    # Additionally, print out predictions for the test set to see the classifier in action\n",
        "    for data in testSet:\n",
        "        print(\"Document:\", data[0], \"Predicted class:\", cl.classify(data[0]))\n",
        "\n",
        "\n",
        "# Call the function with the example sets\n",
        "naiveBayesClassifier(trainingSet,testset)"
      ],
      "metadata": {
        "colab": {
          "base_uri": "https://localhost:8080/"
        },
        "id": "bOC6pkVflkk4",
        "outputId": "3e0566ea-816f-444c-98b6-262f0b6121f2"
      },
      "execution_count": 3,
      "outputs": [
        {
          "output_type": "stream",
          "name": "stdout",
          "text": [
            "Accuracy: 0.8\n",
            "Document: University of Limerick Predicted class: IE\n",
            "Document: University College Dublin Predicted class: IE\n",
            "Document: Imperial College London Predicted class: GB\n",
            "Document: University of Oxford Predicted class: GB\n",
            "Document: Ireland & GB Predicted class: IE\n"
          ]
        }
      ]
    },
    {
      "cell_type": "markdown",
      "source": [
        "# Task 5 :-"
      ],
      "metadata": {
        "id": "a2I1G18riNdm"
      }
    },
    {
      "cell_type": "code",
      "source": [
        "!pip install pandas\n"
      ],
      "metadata": {
        "colab": {
          "base_uri": "https://localhost:8080/"
        },
        "id": "Bj2AzXB3iT43",
        "outputId": "55671c42-aa09-438e-b068-87591474be7f"
      },
      "execution_count": 4,
      "outputs": [
        {
          "output_type": "stream",
          "name": "stdout",
          "text": [
            "Requirement already satisfied: pandas in /usr/local/lib/python3.10/dist-packages (1.5.3)\n",
            "Requirement already satisfied: python-dateutil>=2.8.1 in /usr/local/lib/python3.10/dist-packages (from pandas) (2.8.2)\n",
            "Requirement already satisfied: pytz>=2020.1 in /usr/local/lib/python3.10/dist-packages (from pandas) (2023.3.post1)\n",
            "Requirement already satisfied: numpy>=1.21.0 in /usr/local/lib/python3.10/dist-packages (from pandas) (1.23.5)\n",
            "Requirement already satisfied: six>=1.5 in /usr/local/lib/python3.10/dist-packages (from python-dateutil>=2.8.1->pandas) (1.16.0)\n"
          ]
        }
      ]
    },
    {
      "cell_type": "code",
      "source": [
        "import pandas as pd"
      ],
      "metadata": {
        "id": "uMlKHF5lig5_"
      },
      "execution_count": 5,
      "outputs": []
    },
    {
      "cell_type": "code",
      "source": [
        "df=pd.read_csv('https://storage.googleapis.com/dataset-uploader/bbc/bbc-text.csv')"
      ],
      "metadata": {
        "id": "SD40UoRTi1EC"
      },
      "execution_count": 6,
      "outputs": []
    },
    {
      "cell_type": "code",
      "source": [
        "data = df"
      ],
      "metadata": {
        "id": "vC1a7m_nlC0l"
      },
      "execution_count": 7,
      "outputs": []
    },
    {
      "cell_type": "code",
      "source": [
        "data"
      ],
      "metadata": {
        "colab": {
          "base_uri": "https://localhost:8080/",
          "height": 423
        },
        "id": "2Fqbx6MTm_O9",
        "outputId": "a9c40094-8d6d-402e-cc2b-d674e396b88b"
      },
      "execution_count": 8,
      "outputs": [
        {
          "output_type": "execute_result",
          "data": {
            "text/plain": [
              "           category                                               text\n",
              "0              tech  tv future in the hands of viewers with home th...\n",
              "1          business  worldcom boss  left books alone  former worldc...\n",
              "2             sport  tigers wary of farrell  gamble  leicester say ...\n",
              "3             sport  yeading face newcastle in fa cup premiership s...\n",
              "4     entertainment  ocean s twelve raids box office ocean s twelve...\n",
              "...             ...                                                ...\n",
              "2220       business  cars pull down us retail figures us retail sal...\n",
              "2221       politics  kilroy unveils immigration policy ex-chatshow ...\n",
              "2222  entertainment  rem announce new glasgow concert us band rem h...\n",
              "2223       politics  how political squabbles snowball it s become c...\n",
              "2224          sport  souness delight at euro progress boss graeme s...\n",
              "\n",
              "[2225 rows x 2 columns]"
            ],
            "text/html": [
              "\n",
              "  <div id=\"df-9be8357e-d252-497b-9513-a70d911c8925\" class=\"colab-df-container\">\n",
              "    <div>\n",
              "<style scoped>\n",
              "    .dataframe tbody tr th:only-of-type {\n",
              "        vertical-align: middle;\n",
              "    }\n",
              "\n",
              "    .dataframe tbody tr th {\n",
              "        vertical-align: top;\n",
              "    }\n",
              "\n",
              "    .dataframe thead th {\n",
              "        text-align: right;\n",
              "    }\n",
              "</style>\n",
              "<table border=\"1\" class=\"dataframe\">\n",
              "  <thead>\n",
              "    <tr style=\"text-align: right;\">\n",
              "      <th></th>\n",
              "      <th>category</th>\n",
              "      <th>text</th>\n",
              "    </tr>\n",
              "  </thead>\n",
              "  <tbody>\n",
              "    <tr>\n",
              "      <th>0</th>\n",
              "      <td>tech</td>\n",
              "      <td>tv future in the hands of viewers with home th...</td>\n",
              "    </tr>\n",
              "    <tr>\n",
              "      <th>1</th>\n",
              "      <td>business</td>\n",
              "      <td>worldcom boss  left books alone  former worldc...</td>\n",
              "    </tr>\n",
              "    <tr>\n",
              "      <th>2</th>\n",
              "      <td>sport</td>\n",
              "      <td>tigers wary of farrell  gamble  leicester say ...</td>\n",
              "    </tr>\n",
              "    <tr>\n",
              "      <th>3</th>\n",
              "      <td>sport</td>\n",
              "      <td>yeading face newcastle in fa cup premiership s...</td>\n",
              "    </tr>\n",
              "    <tr>\n",
              "      <th>4</th>\n",
              "      <td>entertainment</td>\n",
              "      <td>ocean s twelve raids box office ocean s twelve...</td>\n",
              "    </tr>\n",
              "    <tr>\n",
              "      <th>...</th>\n",
              "      <td>...</td>\n",
              "      <td>...</td>\n",
              "    </tr>\n",
              "    <tr>\n",
              "      <th>2220</th>\n",
              "      <td>business</td>\n",
              "      <td>cars pull down us retail figures us retail sal...</td>\n",
              "    </tr>\n",
              "    <tr>\n",
              "      <th>2221</th>\n",
              "      <td>politics</td>\n",
              "      <td>kilroy unveils immigration policy ex-chatshow ...</td>\n",
              "    </tr>\n",
              "    <tr>\n",
              "      <th>2222</th>\n",
              "      <td>entertainment</td>\n",
              "      <td>rem announce new glasgow concert us band rem h...</td>\n",
              "    </tr>\n",
              "    <tr>\n",
              "      <th>2223</th>\n",
              "      <td>politics</td>\n",
              "      <td>how political squabbles snowball it s become c...</td>\n",
              "    </tr>\n",
              "    <tr>\n",
              "      <th>2224</th>\n",
              "      <td>sport</td>\n",
              "      <td>souness delight at euro progress boss graeme s...</td>\n",
              "    </tr>\n",
              "  </tbody>\n",
              "</table>\n",
              "<p>2225 rows × 2 columns</p>\n",
              "</div>\n",
              "    <div class=\"colab-df-buttons\">\n",
              "\n",
              "  <div class=\"colab-df-container\">\n",
              "    <button class=\"colab-df-convert\" onclick=\"convertToInteractive('df-9be8357e-d252-497b-9513-a70d911c8925')\"\n",
              "            title=\"Convert this dataframe to an interactive table.\"\n",
              "            style=\"display:none;\">\n",
              "\n",
              "  <svg xmlns=\"http://www.w3.org/2000/svg\" height=\"24px\" viewBox=\"0 -960 960 960\">\n",
              "    <path d=\"M120-120v-720h720v720H120Zm60-500h600v-160H180v160Zm220 220h160v-160H400v160Zm0 220h160v-160H400v160ZM180-400h160v-160H180v160Zm440 0h160v-160H620v160ZM180-180h160v-160H180v160Zm440 0h160v-160H620v160Z\"/>\n",
              "  </svg>\n",
              "    </button>\n",
              "\n",
              "  <style>\n",
              "    .colab-df-container {\n",
              "      display:flex;\n",
              "      gap: 12px;\n",
              "    }\n",
              "\n",
              "    .colab-df-convert {\n",
              "      background-color: #E8F0FE;\n",
              "      border: none;\n",
              "      border-radius: 50%;\n",
              "      cursor: pointer;\n",
              "      display: none;\n",
              "      fill: #1967D2;\n",
              "      height: 32px;\n",
              "      padding: 0 0 0 0;\n",
              "      width: 32px;\n",
              "    }\n",
              "\n",
              "    .colab-df-convert:hover {\n",
              "      background-color: #E2EBFA;\n",
              "      box-shadow: 0px 1px 2px rgba(60, 64, 67, 0.3), 0px 1px 3px 1px rgba(60, 64, 67, 0.15);\n",
              "      fill: #174EA6;\n",
              "    }\n",
              "\n",
              "    .colab-df-buttons div {\n",
              "      margin-bottom: 4px;\n",
              "    }\n",
              "\n",
              "    [theme=dark] .colab-df-convert {\n",
              "      background-color: #3B4455;\n",
              "      fill: #D2E3FC;\n",
              "    }\n",
              "\n",
              "    [theme=dark] .colab-df-convert:hover {\n",
              "      background-color: #434B5C;\n",
              "      box-shadow: 0px 1px 3px 1px rgba(0, 0, 0, 0.15);\n",
              "      filter: drop-shadow(0px 1px 2px rgba(0, 0, 0, 0.3));\n",
              "      fill: #FFFFFF;\n",
              "    }\n",
              "  </style>\n",
              "\n",
              "    <script>\n",
              "      const buttonEl =\n",
              "        document.querySelector('#df-9be8357e-d252-497b-9513-a70d911c8925 button.colab-df-convert');\n",
              "      buttonEl.style.display =\n",
              "        google.colab.kernel.accessAllowed ? 'block' : 'none';\n",
              "\n",
              "      async function convertToInteractive(key) {\n",
              "        const element = document.querySelector('#df-9be8357e-d252-497b-9513-a70d911c8925');\n",
              "        const dataTable =\n",
              "          await google.colab.kernel.invokeFunction('convertToInteractive',\n",
              "                                                    [key], {});\n",
              "        if (!dataTable) return;\n",
              "\n",
              "        const docLinkHtml = 'Like what you see? Visit the ' +\n",
              "          '<a target=\"_blank\" href=https://colab.research.google.com/notebooks/data_table.ipynb>data table notebook</a>'\n",
              "          + ' to learn more about interactive tables.';\n",
              "        element.innerHTML = '';\n",
              "        dataTable['output_type'] = 'display_data';\n",
              "        await google.colab.output.renderOutput(dataTable, element);\n",
              "        const docLink = document.createElement('div');\n",
              "        docLink.innerHTML = docLinkHtml;\n",
              "        element.appendChild(docLink);\n",
              "      }\n",
              "    </script>\n",
              "  </div>\n",
              "\n",
              "\n",
              "<div id=\"df-46f583e8-5d77-4969-9f55-4cd2290cf71c\">\n",
              "  <button class=\"colab-df-quickchart\" onclick=\"quickchart('df-46f583e8-5d77-4969-9f55-4cd2290cf71c')\"\n",
              "            title=\"Suggest charts\"\n",
              "            style=\"display:none;\">\n",
              "\n",
              "<svg xmlns=\"http://www.w3.org/2000/svg\" height=\"24px\"viewBox=\"0 0 24 24\"\n",
              "     width=\"24px\">\n",
              "    <g>\n",
              "        <path d=\"M19 3H5c-1.1 0-2 .9-2 2v14c0 1.1.9 2 2 2h14c1.1 0 2-.9 2-2V5c0-1.1-.9-2-2-2zM9 17H7v-7h2v7zm4 0h-2V7h2v10zm4 0h-2v-4h2v4z\"/>\n",
              "    </g>\n",
              "</svg>\n",
              "  </button>\n",
              "\n",
              "<style>\n",
              "  .colab-df-quickchart {\n",
              "      --bg-color: #E8F0FE;\n",
              "      --fill-color: #1967D2;\n",
              "      --hover-bg-color: #E2EBFA;\n",
              "      --hover-fill-color: #174EA6;\n",
              "      --disabled-fill-color: #AAA;\n",
              "      --disabled-bg-color: #DDD;\n",
              "  }\n",
              "\n",
              "  [theme=dark] .colab-df-quickchart {\n",
              "      --bg-color: #3B4455;\n",
              "      --fill-color: #D2E3FC;\n",
              "      --hover-bg-color: #434B5C;\n",
              "      --hover-fill-color: #FFFFFF;\n",
              "      --disabled-bg-color: #3B4455;\n",
              "      --disabled-fill-color: #666;\n",
              "  }\n",
              "\n",
              "  .colab-df-quickchart {\n",
              "    background-color: var(--bg-color);\n",
              "    border: none;\n",
              "    border-radius: 50%;\n",
              "    cursor: pointer;\n",
              "    display: none;\n",
              "    fill: var(--fill-color);\n",
              "    height: 32px;\n",
              "    padding: 0;\n",
              "    width: 32px;\n",
              "  }\n",
              "\n",
              "  .colab-df-quickchart:hover {\n",
              "    background-color: var(--hover-bg-color);\n",
              "    box-shadow: 0 1px 2px rgba(60, 64, 67, 0.3), 0 1px 3px 1px rgba(60, 64, 67, 0.15);\n",
              "    fill: var(--button-hover-fill-color);\n",
              "  }\n",
              "\n",
              "  .colab-df-quickchart-complete:disabled,\n",
              "  .colab-df-quickchart-complete:disabled:hover {\n",
              "    background-color: var(--disabled-bg-color);\n",
              "    fill: var(--disabled-fill-color);\n",
              "    box-shadow: none;\n",
              "  }\n",
              "\n",
              "  .colab-df-spinner {\n",
              "    border: 2px solid var(--fill-color);\n",
              "    border-color: transparent;\n",
              "    border-bottom-color: var(--fill-color);\n",
              "    animation:\n",
              "      spin 1s steps(1) infinite;\n",
              "  }\n",
              "\n",
              "  @keyframes spin {\n",
              "    0% {\n",
              "      border-color: transparent;\n",
              "      border-bottom-color: var(--fill-color);\n",
              "      border-left-color: var(--fill-color);\n",
              "    }\n",
              "    20% {\n",
              "      border-color: transparent;\n",
              "      border-left-color: var(--fill-color);\n",
              "      border-top-color: var(--fill-color);\n",
              "    }\n",
              "    30% {\n",
              "      border-color: transparent;\n",
              "      border-left-color: var(--fill-color);\n",
              "      border-top-color: var(--fill-color);\n",
              "      border-right-color: var(--fill-color);\n",
              "    }\n",
              "    40% {\n",
              "      border-color: transparent;\n",
              "      border-right-color: var(--fill-color);\n",
              "      border-top-color: var(--fill-color);\n",
              "    }\n",
              "    60% {\n",
              "      border-color: transparent;\n",
              "      border-right-color: var(--fill-color);\n",
              "    }\n",
              "    80% {\n",
              "      border-color: transparent;\n",
              "      border-right-color: var(--fill-color);\n",
              "      border-bottom-color: var(--fill-color);\n",
              "    }\n",
              "    90% {\n",
              "      border-color: transparent;\n",
              "      border-bottom-color: var(--fill-color);\n",
              "    }\n",
              "  }\n",
              "</style>\n",
              "\n",
              "  <script>\n",
              "    async function quickchart(key) {\n",
              "      const quickchartButtonEl =\n",
              "        document.querySelector('#' + key + ' button');\n",
              "      quickchartButtonEl.disabled = true;  // To prevent multiple clicks.\n",
              "      quickchartButtonEl.classList.add('colab-df-spinner');\n",
              "      try {\n",
              "        const charts = await google.colab.kernel.invokeFunction(\n",
              "            'suggestCharts', [key], {});\n",
              "      } catch (error) {\n",
              "        console.error('Error during call to suggestCharts:', error);\n",
              "      }\n",
              "      quickchartButtonEl.classList.remove('colab-df-spinner');\n",
              "      quickchartButtonEl.classList.add('colab-df-quickchart-complete');\n",
              "    }\n",
              "    (() => {\n",
              "      let quickchartButtonEl =\n",
              "        document.querySelector('#df-46f583e8-5d77-4969-9f55-4cd2290cf71c button');\n",
              "      quickchartButtonEl.style.display =\n",
              "        google.colab.kernel.accessAllowed ? 'block' : 'none';\n",
              "    })();\n",
              "  </script>\n",
              "</div>\n",
              "    </div>\n",
              "  </div>\n"
            ]
          },
          "metadata": {},
          "execution_count": 8
        }
      ]
    },
    {
      "cell_type": "code",
      "source": [
        "data.count()"
      ],
      "metadata": {
        "colab": {
          "base_uri": "https://localhost:8080/"
        },
        "id": "foxdaV-rnCNe",
        "outputId": "63d035e2-f68b-47a2-b14c-0c6c7bf3e6ff"
      },
      "execution_count": 9,
      "outputs": [
        {
          "output_type": "execute_result",
          "data": {
            "text/plain": [
              "category    2225\n",
              "text        2225\n",
              "dtype: int64"
            ]
          },
          "metadata": {},
          "execution_count": 9
        }
      ]
    },
    {
      "cell_type": "code",
      "source": [
        "data.value_counts()"
      ],
      "metadata": {
        "colab": {
          "base_uri": "https://localhost:8080/"
        },
        "id": "Rjgrf6tYjFzd",
        "outputId": "d66f31c2-8815-4e3d-e613-368db875e58d"
      },
      "execution_count": 10,
      "outputs": [
        {
          "output_type": "execute_result",
          "data": {
            "text/plain": [
              "category       text                                                                                                                                                                                                                                                                                                                                                                                                                                                                                                                                                                                                                                                                                                                                                                                                                                                                                                                                                                                                                                                                                                                                                                                                                                                                                                                                                                                                                                                                                                                                                                                                                                                                                                                                                                                                                                                                                                                                                                                                                                                                                                                                                                                                                                                                                                                                                                                                                                                                                                                                                                                                                                                                                                                                                                                                                                                                                                                                                                                                                                                                                                      \n",
              "tech           latest opera browser gets vocal net browser opera 8.0  due for official release at the end of next month  will be  the most accessible browser on the market   according to its authors.  the latest version of the net browser can be controlled by voice command and will read pages aloud. the voice features  based on ibm technology  are currently only available in the windows version. opera can also magnify text by up to 10 times and users can create  style sheets   its developers say. this will enable them to view pages with colours and fonts that they prefer. but the browser does not yet work well with screen reader software often used by blind people  so its accessibility features are more likely to appeal to those with some residual vision.  our mission was always to provide the best internet experience for everyone   said opera spokeswoman  berit hanson.  so we would obviously not want to exclude disabled computer users.   another feature likely to appeal to people with low vision is the ability to make pages fit to the screen width  which eliminates the need for horizontal scrolling.  the company points out that this will also appeal to anyone using opera with a handheld device. the company says that features like voice activation are not solely aimed at visually impaired people.  our idea was to take a first step in making human-computer interaction more natural   said ms hanson.  people are not always in a situation where they can access a keyboard  so this makes the web a more hands-free experience.  unlike commercially available voice recognition software  opera does not have to be  trained  to recognise an individual voice. around 50 voice commands are available and users will have to wear a headset which incorporates a microphone. the voice recognition function is currently only available in english. opera is free to download but a paid-for version comes without an ad banner in the top right hand corner and with extra support. opera began life as a research project - a spin-off from norwegian telecoms company telenor. its browser is used by an estimated 10 million people on a variety of operating systems and a number of different platforms.                                                                                                                                                                                                                                                                                                                                                                                                                                                                                                                                                                                                                                                                                                                                                                                                                                    2\n",
              "politics       hague  given up  his pm ambition former conservative leader william hague says he will not stand for the leadership again  having given up his ambition to be prime minister.  mr hague  43  told the daily telegraph he would now find a life dominated by politics too  boring  and unfulfilling. mr hague  who stepped down after his party s 2001 election defeat  does not rule out a return to the front bench. he also told the paper he hopes to remain mp for richmond  north yorks  and start a family with wife ffion. mr hague  who recently had published the biography of william pitt the younger  also said he wanted to continue writing books and speech-writing.  he told the newspaper:  i don t know whether i will ever go back on to the front  but don t rush me.  asked if he would stand for the leadership again  mr hague replied:  no. definitely not.  his determination to stay away from a central role will disappoint some senior conservative members  who say the party needs him. tim collins  the shadow education secretary  said last week it would be a  huge boost  to the party if mr hague returned to the front bench. mr hague became an mp at 27 and leader of the opposition at 36. he said:  i feel fortunate that  by the age of 40  i had crammed in an entire political career.  i had been in the cabinet and been leader of the party  so now i can branch out into other things...it is a very liberating feeling.  mr hague added that he may have misjudged his own ambition to be prime minister.  maybe i wasn t as driven by politics as i thought i was   he said.                                                                                                                                                                                                                                                                                                                                                                                                                                                                                                                                                                                                                                                                                                                                                                                                                                                                                                                                                                                                                                                                                                                                                                                                                                                                                                                                                                                                                                                                               2\n",
              "               fox attacks blair s tory  lies  tony blair lied when he took the uk to war so has no qualms about lying in the election campaign  say the tories.  tory co-chairman liam fox was speaking after mr blair told labour members the tories offered a  hard right agenda . dr fox told bbc radio:  if you are willing to lie about the reasons for going to war  i guess you are going to lie about anything at all.  he would not discuss reports the party repaid £500 000 to lord ashcroft after he predicted an election defeat.  the prime minister ratcheted up labour s pre-election campaigning at the weekend with a helicopter tour of the country and his speech at the party s spring conference. he insisted he did not know the poll date  but it is widely expected to be 5 may.  in what was seen as a highly personal speech in gateshead on sunday  mr blair said:  i have the same passion and hunger as when i first walked through the door of 10 downing street.  he described his relationship with the public as starting euphoric  then struggling to live up to the expectations  and reaching the point of raised voices and  throwing crockery . he warned his supporters against complacency  saying:  it s a fight for the future of our country  it s a fight that for britain and the people of britain we have to win.   mr blair said that whether the public chose michael howard or mr kennedy  it would result in  a tory government not a labour government and a country that goes back and does not move forward . dr fox accused mr blair and other cabinet ministers of telling lies about their opponents  policies and then attacking the lies.  what we learned at the weekend is what labour tactics are going to be and it s going to be fear and smear   he told bbc news. the tory co-chairman attacked labour s six new pledges as  vacuous  and said mr blair was very worried voters would take revenge for his failure to deliver. dr fox refused to discuss weekend newspaper reports that the party had repaid £500 000 to former tory treasurer lord ashcroft after he said the party could not win the election.  we repay loans when they are due but do not comment to individual financial matters   he said  insisting he enjoyed a  warm and constructive  relationship to lord ashcroft.  meanwhile lib dem leader charles kennedy is expected to attack mr blair s words as he begins a nationwide tour on monday. mr kennedy is accelerating lib dem election preparations this week as he visits manchester  liverpool  leicester  somerset  basingstoke  shrewsbury  dorset and torbay. he said:  this is three-party politics. in the northern cities  the contest is between labour and the liberal democrats.  in southern and rural seats - especially in the south west - the principal contenders are the liberal democrats and the conservatives  who are out of the running in scotland and wales.  the lib dems accuse mr blair of making a  touchy-feely  speech to labour delegates which will not help him regain public trust.    2\n",
              "tech           seamen sail into biometric future the luxury cruise liner crystal harmony  currently in the gulf of mexico  is the unlikely setting for tests of biometric technology.  as holidaymakers enjoy balmy breezes  their ship s crew is testing prototype versions of the world s first internationally issued biometric id cards  the seafarer s equivalent of a passport. along with the owner s picture  name and personal details  the new seafarers  identity document incorporates a barcode representing unique features of its holder s fingerprints. the cards are due to be issued in february next year  in line with the revised un convention on seafarers  identity documents of june 2003. tests currently under way in the caribbean are designed to ensure that new cards and their machine readers  produced by different companies in different countries  are working to interoperable standards. results of the current tests  which involve seafarers from a wide range of occupations and nationalities  will be published by the international labour organisation (ilo) by the end of november. crystal cruises  which operates the crystal harmony  is exploring the use of biometrics but has not yet committed to the technology.  authenti-corp  the us technology consultancy  has been working with the ilo on its technical specifications for the cards.   if you re issued a seafarer s id in your country  you want to be sure that when the ship lands in a port in  say  my country you can validate yourself using whatever equipment we have installed   authenti-corp s ceo  cynthia musselman  told the bbc s go digital programme. she said french  jordanian and nigerian nationals would be the first seafarers to get the new id cards since their countries have already ratified the convention. it aims to combat international terrorism whilst guaranteeing the welfare the one million seafarers estimated to be at sea. the convention highlights the importance of access to shore facilities and shore leave as vital elements to a sailor s wellbeing and  therefore  it says  to safer shipping and cleaner oceans.  by increasing security on the seas as well as border control and protection  the cards will hopefully reduce the number of piracy problems around the world   said ms musselman.  it should be a safer environment for seafarers to work in  and will allow people protecting their borders to have confidence that the people getting off the ship are  in fact  seafarers.                                                                                                                                                                                                                                                                                                                                                                                                                                                                                                                                                          2\n",
              "               europe backs digital tv lifestyle how people receive their digital entertainment in the future could change  following the launch of an ambitious european project.  in nice last week  the european commission announced its networked & electronic media (nem) initiative. its broad scope stretches from the way media is created  through each of the stages of its distribution  to its playback. the commission wants people to be able to locate the content they desire and have it delivered seamlessly  when on the move  at home or at work  no matter who supplies the devices  network  content  or content protection scheme. more than 120 experts were in nice to share the vision of interconnected future and hear pledges of support from companies such as nokia  intel  philips  alcatel  france telecom  thomson and telefonica. it might initially appear to be surprising that companies in direct competition are keen to work together. but again and again  speakers stated they could not see incompatible  stand-alone solutions working. a long-term strategy for the evolution and convergence of technologies and services would be required.  the european commission is being pragmatic in its approach. they have identified that many groups have defined the forms of digital media in the areas that nem encompasses. the nem approach is to take a serious look at what is available and what is in the pipeline  pick out the best  bring them together and identify where the gaps are. where it finds holes  it will develop standards to fill them. what is significant is that such a large and powerful organisation has stated its desire for digital formats to be open to all and work on any gadget. this is bound to please  if not surprise  many individuals and user organisations who feel that the wishes of the holder of rights to content are normally considered over and above those of the consumer. many feel that the most difficult and challenging area for the commission will be to identify a solution for different digital rights management (drm) schemes. currently drm solutions are incompatible  locking certain types of purchased content  making them unplayable on all platforms. with the potential of having a percentage of every media transaction that takes place globally  the prize for being the supplier of the world s dominant drm scheme is huge. although entertainment is an obvious first step  it will encompass the remote provisions of healthcare  energy efficiency and control of the smart home. the 10-year plan brings together the work of many currently running research projects that the ec has been funding for a number of years.  simon perry is the editor of the digital lifestyles website  which covers the impact of technology on media                                                                                                                                                                                                                                                 2\n",
              "                                                                                                                                                                                                                                                                                                                                                                                                                                                                                                                                                                                                                                                                                                                                                                                                                                                                                                                                                                                                                                                                                                                                                                                                                                                                                                                                                                                                                                                                                                                                                                                                                                                                                                                                                                                                                                                                                                                                                                                                                                                                                                                                                                                                                                                                                                                                                                                                                                                                                                                                                                                                                                                                                                                                                                                                                                                                                                                                                                                                                                                                                                                            ..\n",
              "entertainment  mogul wilson backing uk rap band tony wilson  the music mogul who established the influential factory records in the 1980s  is to launch a new label - convinced he has discovered his  third major band .  factory were the label of both joy division - who became new order after singer ian curtis committed suicide - and the happy mondays. now wilson believes rap act raw t - signed to his f4 label  the fourth incarnation of factory - will  complete the hat-trick .  suddenly  when raw t came into my life  i realised they are my third major band   he told bbc world service s the music biz programme. the group are set to release their first single on 21 february  and follow it up with an album  realise and witness  in march.  wilson has twice tried to resurrect factory - which lasted for 14 years before folding - but conceded these efforts had been  despondent and dismal experiences . but it has not put him off.  of all the things i do in my life the most exciting thing i ve ever done  and the thing i have most loved  is being part of a record company   he added.   the idea of working with brilliant young musicians  and being close to the centre of popular culture  is just the biggest thrill in my life.  wilson explained how his son persuaded him to go and see raw t  but he had initially been reluctant saying he  detested  young british people rapping.  it s always inauthentic  it s always crass  it never really works for me   he said.  i went to see this group  raw t - which stands for realise and witness talent - and like everyone else in the room that night  we were utterly blown away.  wilson believes raw t could be  to f4 as joy division were to factory records .  the story of factory records - which also owned the legendary hacienda club in manchester - was told in the michael winterbottom film 24 hour party people  in which wilson was played by steve coogan.  wilson stressed that the independent music scene remained  as important  as it had been during the 1980s  when labels such as factory and rough trade proliferated. he pointed out that franz ferdinand and the white stripes -  perhaps the two most important bands since the millennium  - were signed to indies.  i think that is a reflection of how useful and how powerful the indie philosophy is  and how bands prefer it   he added.  they can make more money that way - it s a more generous relationship  and also it s a more understanding relationship.  i think independents are in a wonderful position at this moment in time.                                                                                                                                                                                                                                                                                                                                                                                                                                                                                         1\n",
              "               michael film signals  retirement  singer george michael has said that a new film about his life is the start of a retirement from public view.  the pop star said it would be a much more  behind the scenes affair   and called his own genre of music  dead .  i thought i should explain myself before i disappear   said michael  who was at the berlin film festival to launch the documentary. the film  a different story  chronicles michael s life and career from the 1980s and his personal struggles. the 41-year-old chart-topper told reporters in the german capital that he wanted to  move his career into a different form   but added that he does not know what it is going to be yet.   i m still going to be making music   he said  but added that he was  not going to be around . he hinted at discontent with the current state of music industry  and said:  i don t really think that there is anyone in the modern pop business who i feel i want to spar with.  michael said that the film  directed by southan morris  would put his two decades of fame into context.  it s almost as much for me as for my fans  in terms of trying to make sense of the last 22 years and bring it to a close in a proper way   he said. the documentary chronicles the highs and lows of his life in the public gaze  from his meteoric rise as one half of pop duo wham! to his arrest for lewd conduct in a los angeles toilet in 1998. the film also deals with the loss of michael s partner anselmo feleppa from an aids-related condition in 1993. a different story  which is being shown at the berlin film festival  has been screened by bbc one.                                                                                                                                                                                                                                                                                                                                                                                                                                                                                                                                                                                                                                                                                                                                                                                                                                                                                                                                                                                                                                                                                                                                                                                                                                                                                                                                                                                                                                1\n",
              "               media seek jackson  juror  notes reporters covering singer michael jackson s trial in california have asked to see questionnaires completed by potential jurors.  lawyers for news organisations said it was  really vital  for the responses of 250 potential jurors to be made public  to serve as a check on the process . santa barbara county superior court is due to consider the request on monday. mr jackson denies child molestation. it is estimated his trial will cost santa barbara county up to $4m (£2.13m).  meanwhile michael jackson s mother has said she is  100% certain  her son did not commit the child abuse charges he faces. the court is currently selecting 12 jurors and eight stand-by jurors for the trial  a process delayed until at least thursday after a member of the star s legal team was hit by family illness. defence lawyers argued against the bid by associated press and other news organisations to have potential jurors  responses made public.   the release of the completed jury questionnaires does not serve any purpose other than to add to the sensationalist coverage of this case   a motion by mr jackson s lawyers stated. the estimated total costs of the trial  expected to last five months  range from $2.5m (£1.33m) to $4m (£2.13m) of local taxpayers  money. those estimates do not include costs to the city of santa maria  the superior court or for the investigation and prosecution of the case. the cost of security and other needs around the courthouse has been estimated at $40 000 (£21 000) per day  said jason stilwell  a special projects manager at the county administrator s office.  mr jackson  46  denies plying a boy with alcohol and molesting him. his mother katherine jackson told us tv network fox news on sunday that her pop star son told her he was innocent.  i believe that for one reason - i know his character   she said.  he loves children. you don t molest anything that you love.  describing mr jackson as  a good person   the mother-of-nine said she feared he would not be given a fair trial.  i can t sleep thinking about what these wicked people might try to do to him   she said.                                                                                                                                                                                                                                                                                                                                                                                                                                                                                                                                                                                                                                                                                                                                                                                                                                                                                          1\n",
              "               mccririck out of big brother show racing pundit john mccririck has become the latest contestant to be evicted from celebrity big brother.  he was nominated to leave the channel 4 show by fellow housemates  alongside happy mondays dancer bez. at one time bez was among the most popular contestants but he has since become withdrawn and argumentative. mccririck was ordered to leave the house on monday  following jackie stallone  the actor sylvester s mother  who was first to be evicted. bez reacted badly to the news that he had been nominated by five of his fellow housemates  whilst john received four votes against him. sylvester stallone s ex-wife brigitte nielsen nominated both john and bez. she said:  bez is a difficult human being. there s something wrong with him. even though he s making an effort  he s not very happy in here.  former holby city actor jeremy edwards said he had nominated bez after he became agitated on friday night and talked about escaping over the wall to go clubbing. he said bez was being  loopy  and  stressed . according to bookmaker ladbrokes  john mccririck was 1/3 favourite to be evicted on monday while bez was at 9/4 . mccririck faced the public vote on friday and received 67% of the vote to keep him in the house  whilst jackie stallone was evicted.                                                                                                                                                                                                                                                                                                                                                                                                                                                                                                                                                                                                                                                                                                                                                                                                                                                                                                                                                                                                                                                                                                                                                                                                                                                                                                                                                                                                                                                                                                                                                                                                                                                                                                                                                               1\n",
              "tech           yahoo moves into desktop search internet giant yahoo has launched software to allow people to search e-mail and other files on their pcs.  the firm is following in the footsteps of microsoft  google and ask jeeves  which have offered similar services. search has become a lucrative and hotly-contested area of expansion for net firms  looking to extend loyalty beyond the web. with hard drives providing bigger storage  users could need more help to locate important files  such as photos.  the desktop search technology has been licensed from a us-based firm x1 technologies. it is designed to work alongside microsoft s outlook and outlook express e-mail programs. searching e-mail effectively is becoming increasingly important  especially as the amount of spam increases. according to research from message analysts the radicati group  up to 45% of businesses  critical information is stored in e-mail and attachments. yahoo s software can also work separately on the desktop  searching for music  photos and other files. users can search under a variety of criteria  including file name  size  date and time. it doesn t yet incorporate web searching  although yahoo has promised that future versions will allow users to search both web-based and desktop data.  we are all getting more and more files on our desktop but the real commercial opportunity lies with linking this through to web content   said julian smith  an analyst with research firm jupiter.  it is all about extending the idea of search and getting a closer relationship with consumers by organising not just how they search on the internet but the files on your computer as well   he said. search engines are often the first port of call for users when they go onto the web. the new foray into desktop search has rung alarm bells for human rights groups  concerned about the implications to privacy. and not everyone is impressed with the functionality of such services. alexander linden  vice president of emerging technologies at analyst firm gartner downloaded the google product but has since removed it.  it was just not very interesting   he said. he believes the rush to enter the desktop business is just a way of keeping up with rivals.  desktop search is just one of many features people would like but i m suspicious of its usefulness   he said. more useful would be tools that can combine internet  intranet and desktop search alongside improvements to key word searching  he said.                                                                                                                                                                                                                                                                                                                                                                                                                                                                                                                                             1\n",
              "Length: 2126, dtype: int64"
            ]
          },
          "metadata": {},
          "execution_count": 10
        }
      ]
    },
    {
      "cell_type": "code",
      "source": [
        "import csv\n",
        "import random\n",
        "from textblob import TextBlob\n",
        "\n",
        "sample_size = 3\n",
        "sample_documents = df.sample(sample_size)\n",
        "print(\"Sample Documents:\")\n",
        "for index, row in sample_documents.iterrows():\n",
        "    print(\"Category:\", row[\"category\"])\n",
        "    print(\"Text:\", row[\"text\"])\n",
        "    print()\n",
        "\n",
        "\n",
        "total_documents = len(data)\n",
        "print(\"Total Number of Documents in the Dataset:\", total_documents)\n",
        "\n",
        "\n",
        "documents_per_class = df[\"category\"].value_counts()\n",
        "print(\"Total Number of Documents per Class:\")\n",
        "print(documents_per_class)\n",
        "\n",
        "split_point = int(0.8 * len(df))\n",
        "train_data = data[:split_point]\n",
        "test_data = data[split_point:]\n",
        "\n",
        "\n",
        "print(\"Train Size = \", len(train_data))\n",
        "print(\"Test Size = \", len(test_data))\n",
        "\n",
        "print(\"\\n Training Samples: \\n\", train_data['text'])\n",
        "print(\"\\n Training Samples: \\n\", test_data['text'])\n",
        "\n",
        "train_tuples = [(text, category) for text, category in zip(train_data['text'], train_data['category'])]\n",
        "test_tuples = [(text, category) for text, category in zip(test_data['text'], test_data['category'])]\n",
        "\n",
        "\n",
        "naiveBayesClassifier(train_tuples,test_tuples)\n",
        "accuracy = classify.accuracy(test_tuples)\n",
        "\n",
        "print(\"\\n Accuracy:\",accuracy)"
      ],
      "metadata": {
        "colab": {
          "base_uri": "https://localhost:8080/"
        },
        "id": "mEQUxZVXkn_c",
        "outputId": "984b3b35-22d1-4c9b-df34-9e41bea360d7"
      },
      "execution_count": null,
      "outputs": [
        {
          "output_type": "stream",
          "name": "stdout",
          "text": [
            "Sample Documents:\n",
            "Category: business\n",
            "Text: tobacco giants hail court ruling us tobacco companies have welcomed an appeal court s decision to reject the government s $280bn (£155bn) claim for alleged deceit about smoking dangers.  tobacco stocks rose sharply on wall street after the 2-1 decision. the court in washington found the case - filed by the clinton administration in 1999 - could not be brought under federal anti-racketeering laws. anti-smoking groups urge the government to fight on  but the justice department has not said if it will appeal. among the accused were altria group  rj reynolds tobacco  lorillard tobacco  liggett group and brown and williamson. they were delighted by the decision  which sent reynolds shares up 4.5% and altria shares up 5.11%.  charles a blixt  executive vice-president of rj reynolds tobacco  said the ruling  dramatically transforms  the government s lawsuit. altria group said  in a statement  the government now  must not only prove that the companies have engaged in fraudulent behaviour in the past  but that they are likely to do so in the future.   the government had claimed tobacco firms    - manipulated nicotine levels to increase addiction   - targeted teenagers with multi-billion dollar advertising campaigns   - lied about the dangers of smoking and ignored research to the contrary.     prosecutors wanted the cigarette firms to  disgorge  $280bn in profits accumulated over the past 50 years and impose tougher rules on marketing their products. they brought the case under racketeering laws  which were passed to deny mafia gangs the profits of their crimes. but the tobacco companies denied that they illegally conspired to promote smoking and defraud the public. they also said they had already met many of the government s demands in a landmark $206bn settlement reached with 46 states in 1998. the three-judge panel in the district of columbia s court of appeals ruled on friday that the us government could not sue the firms under the anti-racketeering laws. judge david sentelle  in his ruling  said such laws were aimed at putting an end to illegal conduct going forward.  we hold that the language of (the law) and the comprehensive remedial scheme of (the law) preclude disgorgement as a possible remedy in this case   he wrote. the justice department refused to say if it would appeal.  all we re saying today is that we have received the ruling and are reviewing it   a spokeswoman said on friday. but william corr of the campaign for tobacco-free kids urged the government to continue pressing its case.  today s ruling should not be an excuse for this administration to seek a weak settlement that lets the tobacco industry off the hook   he said.\n",
            "\n",
            "Category: entertainment\n",
            "Text: gallery unveils interactive tree a christmas tree that can receive text messages has been unveiled at london s tate britain art gallery.  the spruce has an antenna which can receive bluetooth texts sent by visitors to the tate. the messages will be  unwrapped  by sculptor richard wentworth  who is responsible for decorating the tree with broken plates and light bulbs. it is the 17th year that the gallery has invited an artist to dress their christmas tree. artists who have decorated the tate tree in previous years include tracey emin in 2002.  the plain green norway spruce is displayed in the gallery s foyer. its light bulb adornments are dimmed  ordinary domestic ones joined together with string. the plates decorating the branches will be auctioned off for the children s charity artworks. wentworth worked as an assistant to sculptor henry moore in the late 1960s. his reputation as a sculptor grew in the 1980s  while he has been one of the most influential teachers during the last two decades. wentworth is also known for his photography of mundane  everyday subjects such as a cigarette packet jammed under the wonky leg of a table.\n",
            "\n",
            "Category: sport\n",
            "Text: hantuchova in dubai last eight daniela hantuchova moved into the quarter-finals of the dubai open  after beating elene likhotseva of russia 7-5 6-4  and now faces serena williams.  australian open champion williams survived an early scare to beat russia s elena bovina 1-6 6-1 6-4. world number one lindsay davenport and anastasia myskina also progressed. davenport defeated china s jie zheng 6-2 7-5  while french open champion myskina sailed through after her opponent marion bartoli retired hurt. american davenport will now face fellow former wimbledon champion  conchita martinez of spain  who ousted seventh-seeded nathalie dechy of france 6-1 6-2. myskina will face eighth-seed patty schnyder from switzerland  who defeated china s li na 6-3 7-6 (10-8). the other quarter final pits wild card sania mirza of india against jelena jankovic of serbia and montenegro  who both won on tuesday.  before her meeting with martinez  davenport believes there is some room for improvement in her game.  i started well and finished well  but played some so-so games in the middle   she said. williams was also far from content.  i don t know what i was doing there   she said.  it was really windy and i hadn t played in the wind. all my shots were going out of here.  but hantuchova is in upbeat mood ahead of her clash with the younger williams sister  who was handed a first-round bye.  i feel i have an advantage (over serena) because i have already played two matches on these courts   she said.  it is a difficult court to play on. very fast and sometimes you feel you have no control over the ball.\n",
            "\n",
            "Total Number of Documents in the Dataset: 2225\n",
            "Total Number of Documents per Class:\n",
            "sport            511\n",
            "business         510\n",
            "politics         417\n",
            "tech             401\n",
            "entertainment    386\n",
            "Name: category, dtype: int64\n",
            "Train Size =  1780\n",
            "Test Size =  445\n",
            "\n",
            " Training Samples: \n",
            " 0       tv future in the hands of viewers with home th...\n",
            "1       worldcom boss  left books alone  former worldc...\n",
            "2       tigers wary of farrell  gamble  leicester say ...\n",
            "3       yeading face newcastle in fa cup premiership s...\n",
            "4       ocean s twelve raids box office ocean s twelve...\n",
            "                              ...                        \n",
            "1775    china  blocks google news site  china has been...\n",
            "1776    labour accused of  eu propaganda  a  taxpayer ...\n",
            "1777    tevez - an argentine in brazil some 65 years a...\n",
            "1778    water firm suez in argentina row a conflict be...\n",
            "1779    tv presenter deeley drops cd:uk cat deeley has...\n",
            "Name: text, Length: 1780, dtype: object\n",
            "\n",
            " Training Samples: \n",
            " 1780    hobbit picture  four years away  lord of the r...\n",
            "1781    game firm holds  cast  auditions video game fi...\n",
            "1782    clarke plans migrant point scheme anyone plann...\n",
            "1783    radcliffe will compete in london paula radclif...\n",
            "1784    serena becomes world number two serena william...\n",
            "                              ...                        \n",
            "2220    cars pull down us retail figures us retail sal...\n",
            "2221    kilroy unveils immigration policy ex-chatshow ...\n",
            "2222    rem announce new glasgow concert us band rem h...\n",
            "2223    how political squabbles snowball it s become c...\n",
            "2224    souness delight at euro progress boss graeme s...\n",
            "Name: text, Length: 445, dtype: object\n"
          ]
        }
      ]
    }
  ]
}
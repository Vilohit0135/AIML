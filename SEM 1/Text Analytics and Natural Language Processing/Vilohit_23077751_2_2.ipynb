{
  "nbformat": 4,
  "nbformat_minor": 0,
  "metadata": {
    "colab": {
      "provenance": []
    },
    "kernelspec": {
      "name": "python3",
      "display_name": "Python 3"
    },
    "language_info": {
      "name": "python"
    }
  },
  "cells": [
    {
      "cell_type": "markdown",
      "source": [
        "## Student name:- Vilohit Keshava Murthy Achar\n",
        "## Student ID:- 23077751\n"
      ],
      "metadata": {
        "id": "2SPZc79q7jkB"
      }
    },
    {
      "cell_type": "markdown",
      "source": [
        "(a) the function measures the Levenshtein distance, i.e. insertion cost = 1, deletion cost = 1, substitution cost = 2\n",
        "\n",
        "\n",
        "(b) use %time or time.time() method to measure the execution time.\n",
        "\n",
        "\n",
        "(c) Augment the code such that it outputs a DP table including backtrace pointers in each cell.\n"
      ],
      "metadata": {
        "id": "FPMRlzrH8V0n"
      }
    },
    {
      "cell_type": "code",
      "source": [
        "# Ver.2021\n",
        "import re\n",
        "import time\n",
        "# A helper function for formatting and printing the DP table. >>> DO NOT MODIFY <<<\n",
        "def printTable(table, description):\n",
        "    print(f'{description}\\n')\n",
        "    current_row = current_col = 0\n",
        "    current_row_col = re.search(\"^row ([0-9]+) , col ([0-9]+)$\",description)\n",
        "    if current_row_col:\n",
        "        current_row = int(current_row_col.group(1))\n",
        "        current_col= int(current_row_col.group(2))\n",
        "    row_counter=0\n",
        "    for row in table:\n",
        "        row_counter+=1\n",
        "        col_counter=0\n",
        "        for col in row:\n",
        "            col_counter+=1\n",
        "            #print(row_counter , row, current_col, col)\n",
        "            if (row_counter == current_row) and (col_counter == current_col):\n",
        "                formatting = '\\033[1m'+'\\033[91m' #bold + red\n",
        "            else: formatting = '\\x1b[0m' #reset fomatting\n",
        "            print(formatting + str(col).rjust(10, ' '), end=' ')  # rjust returns a 10-characters long, right justified version of the string\n",
        "        print('\\n\\n')\n",
        "    print('---------------------------------------------------------------------------------------------------------------')\n",
        "\n",
        " # A DP-based solution for edit distance problem\n",
        "def editDistDP(x,y):\n",
        "    dp = [] # Create an empty (Dynamic Pgoramming) table to store results of subproblems\n",
        "    dp_shadow = []\n",
        "    # fill in the table with zeros\n",
        "    for row in range(len(x) + 1):\n",
        "        dp.append([0]* (len(y) + 1))\n",
        "        dp_shadow.append([''] * (len(y) + 1))\n",
        "    # Alternatively, you can use List Comprehension to initiate the DP table in one line of code\n",
        "    # dp = [[0 for column in range(len(y) + 1)] for row in range(len(x) + 1)]\n",
        "\n",
        "    # Fill in the base case (easy) subproblems, i.e. the first row and column of the DP table\n",
        "\n",
        "    # first row: base case subproblems for computing the cost of converting \"\" to y\n",
        "    for j in range(len(y) + 1):\n",
        "        # If x is empty then the only option is to insert all the characters of y\n",
        "        # Minimum number of required operations (cost) is j insertions, where j = len(y)\n",
        "        dp[0][j] = j\n",
        "        dp_shadow[0][j]= str(j) + '←'\n",
        "\n",
        "    # first column: base case subproblems for computing the cost of converting x to \"\"\n",
        "    for i in range(len(x) + 1):\n",
        "        # If y is empty then the only option is to delete all the characters of x\n",
        "        # Minimum number of required operations (cost) is i deletions, where i = len(x)\n",
        "        dp[i][0] = i\n",
        "        dp_shadow[i][0] = str(i) + '↑'\n",
        "\n",
        "    printTable(dp,\"DP table after the base case (easy) subproblems are solved\");\n",
        "\n",
        "    # Fill in the rest of the DP table in a BOTTOM-UP manner\n",
        "    for i in range(1, len(x) + 1):\n",
        "        for j in range(1, len(y) + 1):\n",
        "\n",
        "            insertion_cost = dp[i][j-1] + 1\n",
        "            deletion_cost = dp[i-1][j] + 1\n",
        "            substitution_cost = dp[i-1][j-1] + (2 if x[i-1] != y[j-1] else 0)\n",
        "\n",
        "            minValue = min(insertion_cost,deletion_cost,substitution_cost)\n",
        "            dp[i][j] = minValue\n",
        "\n",
        "            dp_shadow[i][j] += str(minValue)\n",
        "            if minValue == insertion_cost:\n",
        "                dp_shadow[i][j] += '←'\n",
        "\n",
        "            if minValue == substitution_cost:\n",
        "                dp_shadow[i][j] += '↖'\n",
        "\n",
        "            if minValue == deletion_cost:\n",
        "                dp_shadow[i][j] += '↑'\n",
        "\n",
        "            # printTable(dp,f'row {i+1} , col {j+1}') #UNCOMMENT this line to see how the DP table is filled at each step\n",
        "\n",
        "    printTable(dp_shadow,\"Completed DP table after all the subproblems are solved\")\n",
        "\n",
        "    return dp[-1][-1]\n"
      ],
      "metadata": {
        "id": "C7upTPLqOpWq"
      },
      "execution_count": 26,
      "outputs": []
    },
    {
      "cell_type": "code",
      "source": [
        "str1, str2 = \"Vilohit\", \"Keshava\"\n",
        "\n",
        "start_time = time.time()\n",
        "print(f'edit distance between \"{str1}\" and \"{str2}\": {editDistDP(str1, str2)}')\n",
        "end_time = time.time()\n",
        "print(f'--- Executed in: {end_time-start_time}')"
      ],
      "metadata": {
        "colab": {
          "base_uri": "https://localhost:8080/"
        },
        "id": "9C7x4jqhPAN8",
        "outputId": "ba5c6098-dc5a-4501-9a6d-bf5f9262ec7c"
      },
      "execution_count": 29,
      "outputs": [
        {
          "output_type": "stream",
          "name": "stdout",
          "text": [
            "DP table after the base case (easy) subproblems are solved\n",
            "\n",
            "\u001b[0m         0 \u001b[0m         1 \u001b[0m         2 \u001b[0m         3 \u001b[0m         4 \u001b[0m         5 \u001b[0m         6 \u001b[0m         7 \n",
            "\n",
            "\n",
            "\u001b[0m         1 \u001b[0m         0 \u001b[0m         0 \u001b[0m         0 \u001b[0m         0 \u001b[0m         0 \u001b[0m         0 \u001b[0m         0 \n",
            "\n",
            "\n",
            "\u001b[0m         2 \u001b[0m         0 \u001b[0m         0 \u001b[0m         0 \u001b[0m         0 \u001b[0m         0 \u001b[0m         0 \u001b[0m         0 \n",
            "\n",
            "\n",
            "\u001b[0m         3 \u001b[0m         0 \u001b[0m         0 \u001b[0m         0 \u001b[0m         0 \u001b[0m         0 \u001b[0m         0 \u001b[0m         0 \n",
            "\n",
            "\n",
            "\u001b[0m         4 \u001b[0m         0 \u001b[0m         0 \u001b[0m         0 \u001b[0m         0 \u001b[0m         0 \u001b[0m         0 \u001b[0m         0 \n",
            "\n",
            "\n",
            "\u001b[0m         5 \u001b[0m         0 \u001b[0m         0 \u001b[0m         0 \u001b[0m         0 \u001b[0m         0 \u001b[0m         0 \u001b[0m         0 \n",
            "\n",
            "\n",
            "\u001b[0m         6 \u001b[0m         0 \u001b[0m         0 \u001b[0m         0 \u001b[0m         0 \u001b[0m         0 \u001b[0m         0 \u001b[0m         0 \n",
            "\n",
            "\n",
            "\u001b[0m         7 \u001b[0m         0 \u001b[0m         0 \u001b[0m         0 \u001b[0m         0 \u001b[0m         0 \u001b[0m         0 \u001b[0m         0 \n",
            "\n",
            "\n",
            "---------------------------------------------------------------------------------------------------------------\n",
            "Completed DP table after all the subproblems are solved\n",
            "\n",
            "\u001b[0m        0↑ \u001b[0m        1← \u001b[0m        2← \u001b[0m        3← \u001b[0m        4← \u001b[0m        5← \u001b[0m        6← \u001b[0m        7← \n",
            "\n",
            "\n",
            "\u001b[0m        1↑ \u001b[0m      2←↖↑ \u001b[0m      3←↖↑ \u001b[0m      4←↖↑ \u001b[0m      5←↖↑ \u001b[0m      6←↖↑ \u001b[0m      7←↖↑ \u001b[0m      8←↖↑ \n",
            "\n",
            "\n",
            "\u001b[0m        2↑ \u001b[0m      3←↖↑ \u001b[0m      4←↖↑ \u001b[0m      5←↖↑ \u001b[0m      6←↖↑ \u001b[0m      7←↖↑ \u001b[0m      8←↖↑ \u001b[0m      9←↖↑ \n",
            "\n",
            "\n",
            "\u001b[0m        3↑ \u001b[0m      4←↖↑ \u001b[0m      5←↖↑ \u001b[0m      6←↖↑ \u001b[0m      7←↖↑ \u001b[0m      8←↖↑ \u001b[0m      9←↖↑ \u001b[0m     10←↖↑ \n",
            "\n",
            "\n",
            "\u001b[0m        4↑ \u001b[0m      5←↖↑ \u001b[0m      6←↖↑ \u001b[0m      7←↖↑ \u001b[0m      8←↖↑ \u001b[0m      9←↖↑ \u001b[0m     10←↖↑ \u001b[0m     11←↖↑ \n",
            "\n",
            "\n",
            "\u001b[0m        5↑ \u001b[0m      6←↖↑ \u001b[0m      7←↖↑ \u001b[0m      8←↖↑ \u001b[0m        7↖ \u001b[0m        8← \u001b[0m        9← \u001b[0m       10← \n",
            "\n",
            "\n",
            "\u001b[0m        6↑ \u001b[0m      7←↖↑ \u001b[0m      8←↖↑ \u001b[0m      9←↖↑ \u001b[0m        8↑ \u001b[0m      9←↖↑ \u001b[0m     10←↖↑ \u001b[0m     11←↖↑ \n",
            "\n",
            "\n",
            "\u001b[0m        7↑ \u001b[0m      8←↖↑ \u001b[0m      9←↖↑ \u001b[0m     10←↖↑ \u001b[0m        9↑ \u001b[0m     10←↖↑ \u001b[0m     11←↖↑ \u001b[0m     12←↖↑ \n",
            "\n",
            "\n",
            "---------------------------------------------------------------------------------------------------------------\n",
            "edit distance between \"Vilohit\" and \"Keshava\": 12\n",
            "--- Executed in: 0.002293109893798828\n"
          ]
        }
      ]
    }
  ]
}
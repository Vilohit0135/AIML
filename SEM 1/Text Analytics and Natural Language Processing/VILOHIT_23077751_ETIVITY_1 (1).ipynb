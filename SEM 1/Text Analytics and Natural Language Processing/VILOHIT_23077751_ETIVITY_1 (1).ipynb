{
  "nbformat": 4,
  "nbformat_minor": 0,
  "metadata": {
    "colab": {
      "provenance": []
    },
    "kernelspec": {
      "name": "python3",
      "display_name": "Python 3"
    },
    "language_info": {
      "name": "python"
    }
  },
  "cells": [
    {
      "cell_type": "markdown",
      "source": [
        "# NAME:- VILOHIT KESHAVA MURTHY ACHAR\n",
        "\n",
        "\n",
        "#STUDENT ID:- 23077751\n",
        "\n"
      ],
      "metadata": {
        "id": "cHLhqn9THcU6"
      }
    },
    {
      "cell_type": "code",
      "execution_count": 24,
      "metadata": {
        "id": "AJXjZUNPz5Hb"
      },
      "outputs": [],
      "source": [
        "import re"
      ]
    },
    {
      "cell_type": "code",
      "source": [
        "import csv"
      ],
      "metadata": {
        "id": "F3NumspU0f4P"
      },
      "execution_count": 25,
      "outputs": []
    },
    {
      "cell_type": "code",
      "source": [
        "!wget https://gist.githubusercontent.com/ajoorabchi/eac194a79dd26de8864f9206b7842ff1/raw/8ea1d8d5f74b5b2724e378b43d4df6094990c7db/Eircode%2520Routing%2520Key%2520Boundaries.csv"
      ],
      "metadata": {
        "colab": {
          "base_uri": "https://localhost:8080/"
        },
        "id": "aA_FL2G70jpk",
        "outputId": "698d8abb-ecae-47b5-f75f-524d17b8f41e"
      },
      "execution_count": 26,
      "outputs": [
        {
          "output_type": "stream",
          "name": "stdout",
          "text": [
            "--2023-09-22 13:17:26--  https://gist.githubusercontent.com/ajoorabchi/eac194a79dd26de8864f9206b7842ff1/raw/8ea1d8d5f74b5b2724e378b43d4df6094990c7db/Eircode%2520Routing%2520Key%2520Boundaries.csv\n",
            "Resolving gist.githubusercontent.com (gist.githubusercontent.com)... 185.199.108.133, 185.199.109.133, 185.199.110.133, ...\n",
            "Connecting to gist.githubusercontent.com (gist.githubusercontent.com)|185.199.108.133|:443... connected.\n",
            "HTTP request sent, awaiting response... 200 OK\n",
            "Length: 1934 (1.9K) [text/plain]\n",
            "Saving to: ‘Eircode Routing Key Boundaries.csv.1’\n",
            "\n",
            "\r          Eircode R   0%[                    ]       0  --.-KB/s               \rEircode Routing Key 100%[===================>]   1.89K  --.-KB/s    in 0s      \n",
            "\n",
            "2023-09-22 13:17:26 (10.1 MB/s) - ‘Eircode Routing Key Boundaries.csv.1’ saved [1934/1934]\n",
            "\n"
          ]
        }
      ]
    },
    {
      "cell_type": "code",
      "source": [
        "filepath = \"Eircode Routing Key Boundaries.csv\"\n",
        "\n",
        "\n",
        "with open(filepath, 'r') as f:\n",
        "    reader = csv.reader(f)\n",
        "    KeyRouteList = list(map(tuple,reader))\n",
        "\n",
        "print(KeyRouteList)"
      ],
      "metadata": {
        "colab": {
          "base_uri": "https://localhost:8080/"
        },
        "id": "HAQjLhxP0x27",
        "outputId": "02afc908-e4c7-4a60-9340-1256ecd63e47"
      },
      "execution_count": 27,
      "outputs": [
        {
          "output_type": "stream",
          "name": "stdout",
          "text": [
            "[('ROUTING KEY', 'DESCRIPTOR'), ('A41', 'BALLYBOUGHAL'), ('A42', 'GARRISTOWN'), ('A45', 'OLDTOWN'), ('A63', 'GREYSTONES'), ('A67', 'WICKLOW'), ('A75', 'CASTLEBLAYNEY'), ('A81', 'CARRICKMACROSS'), ('A82', 'KELLS'), ('A83', 'ENFIELD'), ('A84', 'ASHBOURNE'), ('A85', 'DUNSHAUGHLIN'), ('A86', 'DUNBOYNE'), ('A91', 'DUNDALK'), ('A92', 'DROGHEDA'), ('A94', 'BLACKROCK'), ('A96', 'GLENAGEARY'), ('A98', 'BRAY'), ('C15', 'NAVAN'), ('D01', 'DUBLIN 1'), ('D02', 'DUBLIN 2'), ('D03', 'DUBLIN 3'), ('D04', 'DUBLIN 4'), ('D05', 'DUBLIN 5'), ('D06', 'DUBLIN 6'), ('D07', 'DUBLIN 7'), ('D08', 'DUBLIN 8'), ('D09', 'DUBLIN 9'), ('D10', 'DUBLIN 10'), ('D11', 'DUBLIN 11'), ('D12', 'DUBLIN 12'), ('D13', 'DUBLIN 13'), ('D14', 'DUBLIN 14'), ('D15', 'DUBLIN 15'), ('D16', 'DUBLIN 16'), ('D17', 'DUBLIN 17'), ('D18', 'DUBLIN 18'), ('D20', 'DUBLIN 20'), ('D22', 'DUBLIN 22'), ('D24', 'DUBLIN 24'), ('D6W', 'DUBLIN 6W'), ('E21', 'CAHIR'), ('E25', 'CASHEL'), ('E32', 'CARRICK-ON-SUIR'), ('E34', 'TIPPERARY'), ('E41', 'THURLES'), ('E45', 'NENAGH'), ('E53', 'ROSCREA'), ('E91', 'CLONMEL'), ('F12', 'CLAREMORRIS'), ('F23', 'CASTLEBAR'), ('F26', 'BALLINA'), ('F28', 'WESTPORT'), ('F31', 'BALLINROBE'), ('F35', 'BALLYHAUNIS'), ('F42', 'ROSCOMMON'), ('F45', 'CASTLEREA'), ('F52', 'BOYLE'), ('F56', 'BALLYMOTE'), ('F91', 'SLIGO'), ('F92', 'LETTERKENNY'), ('F93', 'LIFFORD'), ('F94', 'DONEGAL'), ('H12', 'CAVAN'), ('H14', 'BELTURBET'), ('H16', 'COOTEHILL'), ('H18', 'MONAGHAN'), ('H23', 'CLONES'), ('H53', 'BALLINASLOE'), ('H54', 'TUAM'), ('H62', 'LOUGHREA'), ('H65', 'ATHENRY'), ('H71', 'CLIFDEN'), ('H91', 'GALWAY'), ('K32', 'BALBRIGGAN'), ('K34', 'SKERRIES'), ('K36', 'MALAHIDE'), ('K45', 'LUSK'), ('K56', 'RUSH'), ('K67', 'SWORDS'), ('K78', 'LUCAN'), ('N37', 'ATHLONE'), ('N39', 'LONGFORD'), ('N41', 'CARRICK-ON-SHANNON'), ('N91', 'MULLINGAR'), ('P12', 'MACROOM'), ('P14', 'CORK - CROOKSTOWN'), ('P17', 'KINSALE'), ('P24', 'COBH'), ('P25', 'MIDLETON'), ('P31', 'BALLINCOLLIG'), ('P32', 'CORK - DONOUGHMORE'), ('P36', 'YOUGHAL'), ('P43', 'CARRIGALINE'), ('P47', 'CORK - DUNMANWAY'), ('P51', 'MALLOW'), ('P56', 'CHARLEVILLE'), ('P61', 'FERMOY'), ('P67', 'MITCHELSTOWN'), ('P72', 'BANDON'), ('P75', 'BANTRY'), ('P81', 'SKIBBEREEN'), ('P85', 'CLONAKILTY'), ('R14', 'ATHY'), ('R21', 'MUINE BHEAG'), ('R32', 'PORTLAOISE'), ('R35', 'TULLAMORE'), ('R42', 'BIRR'), ('R45', 'EDENDERRY'), ('R51', 'KILDARE'), ('R56', 'CURRAGH CAMP'), ('R93', 'CARLOW'), ('R95', 'KILKENNY'), ('T12', 'CORK - BALLINHASSIG'), ('T23', 'CORK - BLARNEY'), ('T34', 'CORK - WHITECHURCH'), ('T45', 'LITTLE ISLAND'), ('T56', 'CORK - WATERGRASSHILL'), ('V14', 'SHANNON'), ('V15', 'KILRUSH'), ('V23', 'CAHERCIVEEN'), ('V31', 'LISTOWEL'), ('V35', 'KILMALLOCK'), ('V42', 'NEWCASTLE WEST'), ('V92', 'TRALEE'), ('V93', 'KILLARNEY'), ('V94', 'LIMERICK'), ('V95', 'ENNIS'), ('W12', 'NEWBRIDGE'), ('W23', 'MAYNOOTH'), ('W34', 'MONASTEREVIN'), ('W91', 'NAAS'), ('X35', 'DUNGARVAN'), ('X42', 'KILMACTHOMAS'), ('X91', 'WATERFORD'), ('Y14', 'ARKLOW'), ('Y21', 'ENNISCORTHY'), ('Y25', 'GOREY'), ('Y34', 'NEW ROSS'), ('Y35', 'WEXFORD')]\n"
          ]
        }
      ]
    },
    {
      "cell_type": "code",
      "source": [
        "prog = re.compile(r'^[A,C,D,E,F,H,K,N,P,R,T,V,W,X,Y,D]{1}[0-9]{1}[0-9,A-Z]{1}[\\ \\-]?[0-9,A-Z]{4}$')\n",
        "\n",
        "def eircodeValidator(eirCode):\n",
        "  if prog.match(eirCode):\n",
        "    print(\"EirCode => \", eirCode)\n",
        "    eir = eirCode[0:3]\n",
        "    u_id = eirCode[4:7]\n",
        "    print(\"Valid Eircode, Routing key = \", eir, \"Unique Identifier =\", u_id)\n",
        "    for key,value in KeyRouteList:\n",
        "      if key == eir:\n",
        "        print(\"Destination = \", value)\n",
        "  else:\n",
        "    print(\"Invalid EirCode\")"
      ],
      "metadata": {
        "id": "wN7XekmT2nMR"
      },
      "execution_count": 39,
      "outputs": []
    },
    {
      "cell_type": "code",
      "source": [
        "eircodeValidator(\"V94-KTX3\")\n",
        "eircodeValidator(\"A42 T9PX\")\n",
        "eircodeValidator(\"v94 T9PX\")\n",
        "eircodeValidator(\" v94 T9PX\")\n",
        "eircodeValidator(\"V94 T9PX \")"
      ],
      "metadata": {
        "colab": {
          "base_uri": "https://localhost:8080/"
        },
        "id": "0kv7XujiGAAu",
        "outputId": "3b819235-417a-4363-ac03-1fd73e40f462"
      },
      "execution_count": 40,
      "outputs": [
        {
          "output_type": "stream",
          "name": "stdout",
          "text": [
            "EirCode =>  V94-KTX3\n",
            "Valid Eircode, Routing key =  V94 Unique Identifier = KTX\n",
            "Destination =  LIMERICK\n",
            "EirCode =>  A42 T9PX\n",
            "Valid Eircode, Routing key =  A42 Unique Identifier = T9P\n",
            "Destination =  GARRISTOWN\n",
            "Invalid EirCode\n",
            "Invalid EirCode\n",
            "Invalid EirCode\n"
          ]
        }
      ]
    },
    {
      "cell_type": "markdown",
      "source": [],
      "metadata": {
        "id": "g5VpCmulHbPr"
      }
    }
  ]
}
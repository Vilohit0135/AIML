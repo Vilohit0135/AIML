{
  "cells": [
    {
      "cell_type": "markdown",
      "metadata": {
        "id": "MeweGdWc2CX-"
      },
      "source": [
        "# Student name: Vilohit Keshava Murthy Achar"
      ]
    },
    {
      "cell_type": "markdown",
      "metadata": {
        "id": "0nAPDjRL2CX_"
      },
      "source": [
        "# Student ID: 23077751"
      ]
    },
    {
      "cell_type": "code",
      "execution_count": null,
      "metadata": {
        "id": "HkiTUeyq2CX_"
      },
      "outputs": [],
      "source": [
        "import matplotlib.pyplot as plt\n",
        "import numpy as np\n",
        "from sklearn import preprocessing\n",
        "import math\n",
        "import random\n",
        "from sklearn.datasets import make_classification\n",
        "from sklearn.model_selection import train_test_split\n",
        "from sklearn.linear_model import LogisticRegression\n",
        "from sklearn.model_selection import learning_curve\n",
        "from sklearn.model_selection import ShuffleSplit\n",
        "import pandas as pd\n",
        "from sklearn.neural_network import MLPClassifier"
      ]
    },
    {
      "cell_type": "markdown",
      "metadata": {
        "id": "g2KL530_2CYA"
      },
      "source": [
        "# Task 1\n",
        "### Purpose:\n",
        "To check your understanding of key terms used throughout this module."
      ]
    },
    {
      "cell_type": "markdown",
      "metadata": {
        "id": "RWApfBOe2CYA"
      },
      "source": [
        "## Answer"
      ]
    },
    {
      "cell_type": "markdown",
      "metadata": {
        "id": "27qqxgBk2CYA"
      },
      "source": [
        "# How a perceptron can be used to classify two objects given their circumference and weight.?\n",
        "\n",
        "Firstly to understand what a perceptron  is, it is  a general computational model which takes an input, aggregates it and returns 1 only if the aggregated sum is more than some threshold else returns 0.\n",
        "\n",
        "Inputs with thier respective weights and its bias from the inpust space which consists of all possible combinations of features that can be used for classification. In this case, the input space is defined by the circumference and weight of the objects are put into the preceptron. The aim is to find out which class the object can be assigned in the outer space which consist  possible classifications or labels assigned to the objects. In a binary classification problem, the output space has two classes, 0 and 1.\n",
        "\n",
        "\n",
        "Then we have to find a which function is good for the problem which is we need to find a target function which will classify efficiently. Then the perceptron goes through the data set which has correctly prelabelled values which are required for the classification of the new object.\n",
        "\n",
        "\n",
        "\n",
        "\n",
        "After that, the perceptron runs through a series of theories to identify a linear separation in the data. The last hypothesis ought to draw a distinct line separating the two classes. The algorithm has to be able to learn from previous hypothesis result.\n",
        "\n",
        "\n",
        "\n",
        "\n",
        "Now after the learning is done we, we provide a hypotheses set on which the object is present on which the preseptron will use its understnading and learning to classify.\n",
        "\n",
        "\n",
        "\n",
        "\n",
        "However, to check the accuracy of the classifier we calculate the error meassure which in turn give us the actual error and the predicted error.\n",
        "\n",
        "\n",
        "\n",
        "Also for the preseptron to learn it will need two standard which is the in smaple error (The in-sample error is the error calculated on the same data set used for training. It measures how well the perceptron performs on the examples it has seen during training) should be less and also the values should be similar to that of out of smaple error(The out-of-sample error is the error calculated on a separate set of examples not used during training. It serves as a measure of how well the perceptron generalizes to new, unseen data).\n",
        "\n",
        "\n",
        "\n",
        "The main goal is to minimize both in-sample and out-of-sample errors, indicating that the perceptron has learned a decision boundary that generalizes well to new data points in the input space.\n",
        "\n",
        "\n"
      ]
    },
    {
      "cell_type": "markdown",
      "metadata": {
        "id": "H8qeuXYJ2CYA"
      },
      "source": [
        "# Task 2\n",
        "Learning curves allow us to look at the impact that the size of the training data set N has on the ability to keep the difference between $E_{in}$ and $E_{out}$ small."
      ]
    },
    {
      "cell_type": "code",
      "execution_count": null,
      "metadata": {
        "id": "sUsyZCgh2CYA"
      },
      "outputs": [],
      "source": [
        "import numpy as np\n",
        "import matplotlib.pyplot as plt\n",
        "from sklearn.naive_bayes import GaussianNB\n",
        "from sklearn.svm import SVC\n",
        "from sklearn.datasets import load_digits\n",
        "from sklearn.model_selection import learning_curve\n",
        "from sklearn.model_selection import ShuffleSplit\n",
        "\n",
        "\n",
        "def plot_learning_curve(estimator, title, X, y, ylim=None, cv=None,\n",
        "                        n_jobs=None, train_sizes=np.linspace(.1, 1.0, 5)):\n",
        "    \"\"\"\n",
        "    Generate a simple plot of the test and training learning curve.\n",
        "\n",
        "    Parameters\n",
        "    ----------\n",
        "    estimator : object type that implements the \"fit\" and \"predict\" methods\n",
        "        An object of that type which is cloned for each validation.\n",
        "\n",
        "    title : string\n",
        "        Title for the chart.\n",
        "\n",
        "    X : array-like, shape (n_samples, n_features)\n",
        "        Training vector, where n_samples is the number of samples and\n",
        "        n_features is the number of features.\n",
        "\n",
        "    y : array-like, shape (n_samples) or (n_samples, n_features), optional\n",
        "        Target relative to X for classification or regression;\n",
        "        None for unsupervised learning.\n",
        "\n",
        "    ylim : tuple, shape (ymin, ymax), optional\n",
        "        Defines minimum and maximum yvalues plotted.\n",
        "\n",
        "    cv : int, cross-validation generator or an iterable, optional\n",
        "        Determines the cross-validation splitting strategy.\n",
        "        Possible inputs for cv are:\n",
        "          - None, to use the default 3-fold cross-validation,\n",
        "          - integer, to specify the number of folds.\n",
        "          - :term:`CV splitter`,\n",
        "          - An iterable yielding (train, test) splits as arrays of indices.\n",
        "\n",
        "        For integer/None inputs, if ``y`` is binary or multiclass,\n",
        "        :class:`StratifiedKFold` used. If the estimator is not a classifier\n",
        "        or if ``y`` is neither binary nor multiclass, :class:`KFold` is used.\n",
        "\n",
        "        Refer :ref:`User Guide <cross_validation>` for the various\n",
        "        cross-validators that can be used here.\n",
        "\n",
        "    n_jobs : int or None, optional (default=None)\n",
        "        Number of jobs to run in parallel.\n",
        "        ``None`` means 1 unless in a :obj:`joblib.parallel_backend` context.\n",
        "        ``-1`` means using all processors. See :term:`Glossary <n_jobs>`\n",
        "        for more details.\n",
        "\n",
        "    train_sizes : array-like, shape (n_ticks,), dtype float or int\n",
        "        Relative or absolute numbers of training examples that will be used to\n",
        "        generate the learning curve. If the dtype is float, it is regarded as a\n",
        "        fraction of the maximum size of the training set (that is determined\n",
        "        by the selected validation method), i.e. it has to be within (0, 1].\n",
        "        Otherwise it is interpreted as absolute sizes of the training sets.\n",
        "        Note that for classification the number of samples usually have to\n",
        "        be big enough to contain at least one sample from each class.\n",
        "        (default: np.linspace(0.1, 1.0, 5))\n",
        "    \"\"\"\n",
        "    plt.figure()\n",
        "    #plt.title(title)\n",
        "    if ylim is not None:\n",
        "        plt.ylim(*ylim)\n",
        "    plt.xlabel(\"Training examples\")\n",
        "    plt.ylabel(\"Error\")\n",
        "    train_sizes, train_scores, test_scores = learning_curve(\n",
        "        estimator, X, y, cv=cv, n_jobs=n_jobs, train_sizes=train_sizes)\n",
        "\n",
        "    train_errors = 1- train_scores\n",
        "    test_errors = 1-test_scores\n",
        "\n",
        "    train_errors_mean = np.mean(train_errors, axis=1)\n",
        "    train_errors_std = np.std(train_errors, axis=1)\n",
        "    test_errors_mean = np.mean(test_errors, axis=1)\n",
        "    test_errors_std = np.std(test_errors, axis=1)\n",
        "    plt.grid()\n",
        "\n",
        "    plt.fill_between(train_sizes, train_errors_mean - train_errors_std,\n",
        "                     train_errors_mean + train_errors_std, alpha=0.1,\n",
        "                     color=\"r\")\n",
        "    plt.fill_between(train_sizes, test_errors_mean - test_errors_std,\n",
        "                     test_errors_mean + test_errors_std, alpha=0.1, color=\"g\")\n",
        "    plt.plot(train_sizes, train_errors_mean, 'o-', color=\"r\",\n",
        "             label=\"Training error\")\n",
        "    plt.plot(train_sizes, test_errors_mean, 'o-', color=\"g\",\n",
        "             label=\"Test error\")\n",
        "\n",
        "\n",
        "    plt.legend(loc=\"best\")\n",
        "    return plt"
      ]
    },
    {
      "cell_type": "code",
      "execution_count": null,
      "metadata": {
        "id": "mbv1YN6i2CYB"
      },
      "outputs": [],
      "source": [
        "data = np.loadtxt(\"/content/Et1_Task2.csv\", delimiter=\",\")\n",
        "X = data[:,0:2]\n",
        "y=data[:,2]"
      ]
    },
    {
      "cell_type": "markdown",
      "metadata": {
        "id": "Kbzr5-uQ2CYB"
      },
      "source": [
        "## Logistic regression learning curve"
      ]
    },
    {
      "cell_type": "code",
      "execution_count": null,
      "metadata": {
        "id": "9Usn6hbl2CYB"
      },
      "outputs": [],
      "source": [
        "cv = ShuffleSplit(n_splits=25, test_size=0.2)"
      ]
    },
    {
      "cell_type": "code",
      "execution_count": null,
      "metadata": {
        "colab": {
          "base_uri": "https://localhost:8080/",
          "height": 466
        },
        "id": "hxR2WztK2CYB",
        "outputId": "068bfe66-1766-4730-c95e-6dfcc8dfdaf1"
      },
      "outputs": [
        {
          "data": {
            "text/plain": [
              "<module 'matplotlib.pyplot' from '/usr/local/lib/python3.10/dist-packages/matplotlib/pyplot.py'>"
            ]
          },
          "execution_count": 6,
          "metadata": {},
          "output_type": "execute_result"
        },
        {
          "data": {
            "image/png": "[encoded data removed]",
            "text/plain": [
              "<Figure size 640x480 with 1 Axes>"
            ]
          },
          "metadata": {},
          "output_type": "display_data"
        }
      ],
      "source": [
        "estimator = LogisticRegression(random_state=0, solver='lbfgs',multi_class='multinomial')\n",
        "plot_learning_curve(estimator, \"title\", X, y, cv=cv, n_jobs=4, train_sizes = np.linspace(0.01, .5, 5))"
      ]
    },
    {
      "cell_type": "markdown",
      "metadata": {
        "id": "WstMEEv32CYC"
      },
      "source": [
        "## Neural net learning curves"
      ]
    },
    {
      "cell_type": "code",
      "execution_count": null,
      "metadata": {
        "colab": {
          "base_uri": "https://localhost:8080/",
          "height": 466
        },
        "id": "LtCC0yub2CYC",
        "outputId": "fb7a7eb9-53dd-4856-81fe-e39bb6d55790"
      },
      "outputs": [
        {
          "data": {
            "text/plain": [
              "<module 'matplotlib.pyplot' from '/usr/local/lib/python3.10/dist-packages/matplotlib/pyplot.py'>"
            ]
          },
          "execution_count": 7,
          "metadata": {},
          "output_type": "execute_result"
        },
        {
          "data": {
            "image/png": "[encoded data removed]",
            "text/plain": [
              "<Figure size 640x480 with 1 Axes>"
            ]
          },
          "metadata": {},
          "output_type": "display_data"
        }
      ],
      "source": [
        "estimator = MLPClassifier(solver='lbfgs', alpha=1e-5,hidden_layer_sizes=(200, 4), random_state=1)\n",
        "plot_learning_curve(estimator, \"title\", X, y, cv=cv, n_jobs=4, train_sizes = np.linspace(0.01, .5, 5))"
      ]
    },
    {
      "cell_type": "markdown",
      "metadata": {
        "id": "TrBt1zEX2CYC"
      },
      "source": [
        "## Describe and Explain\n",
        "Describe the results of the two learning curves and explain the differences in terms of what you currently understand about the relationship between $E_{in}$ and $E_{out}$ and the number of training samples, N. Provide clear explanations:\n",
        "\n",
        "- Why the training error is (generally) lower than the test error\n",
        "- Why the training error increases as the number of training samples is increased\n",
        "- Which of the two models is the more complex model"
      ]
    },
    {
      "cell_type": "markdown",
      "metadata": {
        "id": "weczLj6g2CYC"
      },
      "source": [
        "### Answer\n"
      ]
    },
    {
      "cell_type": "markdown",
      "metadata": {
        "id": "uf2EFerT2CYC"
      },
      "source": [
        "a.) The reason for having more test error (out-of-smaple-error) to that of train error, is the during trainind the  model has access to the whole dataset and it tries multiple variations to adapt to the dataset and minimize the error to undertand more efficiently. However the during the testing the model has access to only the test dataset which it hasnt witnessed before, which means the model hasn't been trained on this data. That's the reason it might give more error.\n",
        "\n",
        "\n",
        "\n",
        "b.) The Out of smaple error has slight increase with the increase in the number of train sample in the training dataset. This is because correctly classiying a big number of points is hard than small sample set. The likelihood of errors happening will increase due to the pressence of more error prone points.\n",
        "\n",
        "\n",
        "c.) The neural network model is a more complex model than Linear Regression model which can be observed by examining the leaning curves. As the number of samples increase NNM shows cpntinuous leaning which will result in the redcution of error rate.However, in LRM will stop learning after a certain point, which wont have any effect in increse in sample size."
      ]
    },
    {
      "cell_type": "markdown",
      "metadata": {
        "id": "2wlOzSty2CYD"
      },
      "source": [
        "# Task 3"
      ]
    },
    {
      "cell_type": "markdown",
      "metadata": {
        "id": "u4KEH5qH2CYD"
      },
      "source": [
        "## Provided functions"
      ]
    },
    {
      "cell_type": "markdown",
      "metadata": {
        "id": "j6gUT8ex2CYD"
      },
      "source": [
        "Below functions implement linear regression in a closed form (one-step solution using the pseudo-inverse)."
      ]
    },
    {
      "cell_type": "code",
      "execution_count": null,
      "metadata": {
        "id": "U_7hXjZr2CYD"
      },
      "outputs": [],
      "source": [
        "def linreg_weights(X,y):\n",
        "    '''Returns the weight vector associated with the regression line that best describes the data X,y in an MSE fashion '''\n",
        "    # add bias 1 to inputs X\n",
        "    X = np.concatenate((np.ones((X.shape[0],1)),X.reshape(X.shape[0],X.shape[1])),axis=1)\n",
        "    # Calculation of weights using pseudo-inverse.\n",
        "    return np.linalg.inv((X.T.dot(X))).dot(X.T).dot(y)"
      ]
    },
    {
      "cell_type": "code",
      "execution_count": null,
      "metadata": {
        "id": "acpTKsBz2CYD"
      },
      "outputs": [],
      "source": [
        "def linreg_predict(w,X):\n",
        "    ''' Returns a prediction y for data point X for a linear regression described by weights w '''\n",
        "    # add bias 1 to inputs X\n",
        "    X = np.concatenate((np.ones((X.shape[0],1)),X.reshape(X.shape[0],X.shape[1])),axis=1)\n",
        "\n",
        "    # Calculation of outputs given weights and data (X).\n",
        "    out=[]\n",
        "    for x in X:\n",
        "        out.append(w.T.dot(x))\n",
        "    return np.array(out)"
      ]
    },
    {
      "cell_type": "markdown",
      "metadata": {
        "id": "nEqzcoEX2CYD"
      },
      "source": [
        "# Task 3a"
      ]
    },
    {
      "cell_type": "markdown",
      "metadata": {
        "id": "7D96r5932CYD"
      },
      "source": [
        "### Answer"
      ]
    },
    {
      "cell_type": "code",
      "execution_count": null,
      "metadata": {
        "id": "jzm2NA-F2CYD"
      },
      "outputs": [],
      "source": [
        "def calc_error(w,X,y):\n",
        "    # implement your error function for linear regression here\n",
        "    mean_error = np.mean((y-linreg_predict(w,X)) ** 2)\n",
        "    return mean_error"
      ]
    },
    {
      "cell_type": "code",
      "execution_count": null,
      "metadata": {
        "id": "4x0OJM2ox-l0"
      },
      "outputs": [],
      "source": [
        "train_data = np.loadtxt(\"/content/Et1_Task3a.csv\",delimiter=\",\")\n"
      ]
    },
    {
      "cell_type": "code",
      "execution_count": null,
      "metadata": {
        "id": "LNtN9ALF11eD"
      },
      "outputs": [],
      "source": [
        "X = train_data[:,0:1]\n",
        "y=train_data[:,1]"
      ]
    },
    {
      "cell_type": "code",
      "execution_count": null,
      "metadata": {
        "colab": {
          "base_uri": "https://localhost:8080/"
        },
        "id": "0MLYSmmL3fGs",
        "outputId": "52a9d4db-4e5e-4558-b45b-1c50f55e1df4"
      },
      "outputs": [
        {
          "output_type": "stream",
          "name": "stdout",
          "text": [
            "Mean Square Error for Linear Regression is :  0.004281801813255596\n"
          ]
        }
      ],
      "source": [
        "w = linreg_weights(X,y)\n",
        "mse = calc_error(w,X,y)\n",
        "print(\"Mean Square Error for Linear Regression is : \", mse)\n"
      ]
    },
    {
      "cell_type": "code",
      "source": [
        "y_pred = linreg_predict(w, X)\n",
        "residuals = y - y_pred\n",
        "\n",
        "max_residual_index = np.argmax(np.abs(residuals))\n",
        "\n",
        "outlying_point = X[max_residual_index]\n",
        "outlying_target = y[max_residual_index]\n",
        "\n",
        "print(\"Outlier point within Dataset : \", \"X : \",outlying_point, \"\\t\", \"Y : \",outlying_target)"
      ],
      "metadata": {
        "colab": {
          "base_uri": "https://localhost:8080/"
        },
        "id": "yBXnsMn51a0a",
        "outputId": "e4779c18-03c3-4c97-89c6-08a90e375da8"
      },
      "execution_count": null,
      "outputs": [
        {
          "output_type": "stream",
          "name": "stdout",
          "text": [
            "Outlier point within Dataset :  X :  [0.73684211] \t Y :  0.8657746706245105\n"
          ]
        }
      ]
    },
    {
      "cell_type": "code",
      "execution_count": null,
      "metadata": {
        "colab": {
          "base_uri": "https://localhost:8080/"
        },
        "id": "fZaWS4tm4YdK",
        "outputId": "f60323e5-e711-433f-fe69-878b7ee930ea"
      },
      "outputs": [
        {
          "name": "stdout",
          "output_type": "stream",
          "text": [
            "Regression lines' mathematical equation in relation to the weights\n",
            "-y = mx+b\n",
            "-where “m” is the weight/slope and “b” is the bias/intercept.\n",
            "-0.51050541x + 0.37569601\n"
          ]
        }
      ],
      "source": [
        "print(\"Regression lines' mathematical equation in relation to the weights\")\n",
        "print(\"-y = mx+b\")\n",
        "print(\"-where “m” is the weight/slope and “b” is the bias/intercept.\")\n",
        "print(\"-0.51050541x + 0.37569601\")"
      ]
    },
    {
      "cell_type": "code",
      "execution_count": 17,
      "metadata": {
        "colab": {
          "base_uri": "https://localhost:8080/",
          "height": 472
        },
        "id": "hJ4Ofo8eyhYF",
        "outputId": "ddbea81a-a4fd-46f9-ce75-697df2e15c73"
      },
      "outputs": [
        {
          "output_type": "display_data",
          "data": {
            "text/plain": [
              "<Figure size 640x480 with 1 Axes>"
            ],
            "image/png": "[encoded data removed]"
          },
          "metadata": {}
        }
      ],
      "source": [
        "w = linreg_weights(X,y)\n",
        "fig, ax = plt.subplots()\n",
        "ax.scatter(X, y)\n",
        "ax.plot(X, w[1] * X + w[0], color='green', label='Linear Regression Line')\n",
        "plt.xlabel('X')\n",
        "plt.ylabel('y')\n",
        "plt.legend()\n",
        "plt.title('For data points with no outliers linear regression line.')\n",
        "plt.show()\n"
      ]
    },
    {
      "cell_type": "code",
      "execution_count": 19,
      "metadata": {
        "colab": {
          "base_uri": "https://localhost:8080/",
          "height": 524
        },
        "id": "NNoz1RBi65sg",
        "outputId": "f3f08976-55c8-44e5-f69a-0b9325dbf27b"
      },
      "outputs": [
        {
          "output_type": "stream",
          "name": "stdout",
          "text": [
            "Updated weights:\n",
            "[0.4305479  0.43539292]\n",
            "Mean Square Error with Outliers :  0.010555592337395057\n"
          ]
        },
        {
          "output_type": "display_data",
          "data": {
            "text/plain": [
              "<Figure size 640x480 with 1 Axes>"
            ],
            "image/png": "[encoded data removed]"
          },
          "metadata": {}
        }
      ],
      "source": [
        "X_modified = np.append(X, [[0.1]], axis=0)\n",
        "y_modified = np.append(y, [0.82])\n",
        "\n",
        "w_updated = linreg_weights(X_modified, y_modified)\n",
        "print(\"Updated weights:\")\n",
        "print(w_updated)\n",
        "\n",
        "w = linreg_weights(X_modified,y_modified)\n",
        "# Calculation y_pred with outlier\n",
        "y_pred_outlier = linreg_predict(w, X_modified)\n",
        "# Calling Error function\n",
        "mse_outlier = calc_error(w_updated,X_modified,y_modified)\n",
        "\n",
        "print(\"Mean Square Error with Outliers : \",mse_outlier )\n",
        "\n",
        "plt.scatter(X_modified,y_modified)\n",
        "plt.plot(X_modified , w_updated[1] * X_modified + w_updated[0], color ='green',label='Linear Regression Line')\n",
        "plt.xlabel('X')\n",
        "plt.ylabel('y')\n",
        "plt.legend()\n",
        "plt.title('LFor data points with outliers linear regression line.')\n",
        "plt.show()"
      ]
    },
    {
      "cell_type": "markdown",
      "source": [
        "**My understandings from the given task above -**\n",
        "\n",
        "In these two graphs, I'm looking at how linear regression helps us understand the connection between one thing we're measuring (our independent variable) and something we're trying to predict (our dependent variable). Linear regression is a statistical tool that finds the best straight line—technically, it's the line that makes the smallest possible squares out of the differences between where the actual data points are and where the line predicts they should be.\n",
        "\n",
        "The first graph shows the original set of data points with a line drawn through them. This line is defined by a formula, \\( y = wx + b \\), which I can use to predict values. Here, \\( w \\) is the slope of the line, which tells me how much the thing I'm predicting changes when the thing I'm measuring changes. The \\( b \\) is where the line starts on the graph vertically when there's no measurement (when \\( x \\) is zero).\n",
        "\n",
        "When I look at the second graph, I've added a new point that's quite far from the rest—this is what we call an outlier. It's interesting to see how just this one point changes the slope and starting point of my prediction line. It's a clear lesson in how sensitive my predictions can be to a single unusual piece of data.\n",
        "\n",
        "In academic terms, I'm quantifying the error of my model—how good or bad it is at making predictions—with metrics like the R-squared value or the mean squared error. I'm looking for these numbers to be as low as possible, which tells me my line is a good fit for the data.\n",
        "\n",
        "What this all teaches me is that I need to be careful with outliers. They can really throw off my predictions. It's like thinking one snowstorm means a whole snowy winter—it might, but I need more evidence before I can be sure. Understanding how these outliers affect my model helps me make it more reliable."
      ],
      "metadata": {
        "id": "RIHTrn6TDl4e"
      }
    },
    {
      "cell_type": "markdown",
      "source": [
        "From the task above, I have gained a clear understanding that the VC dimension represents a measure of the capacity or complexity of a hypothesis class, rather than its effectiveness. I discovered that while it's possible to find a line that separates two classes within the given dataset, there could be multiple such lines for the hypothesis set. However, if the data were not linearly separable, then drawing any number of lines would not fully address the separation."
      ],
      "metadata": {
        "id": "A0Out47QdjH1"
      }
    },
    {
      "cell_type": "markdown",
      "metadata": {
        "id": "GxQVYTiL2CYD"
      },
      "source": [
        "##  Describe and Explain\n",
        "Discuss your results and answer the following questions:\n",
        "1. Which data point adds the biggest error term to the optimised error function?\n",
        "2. How does the error contributed by this point relate to its distance from the regression line/function?\n",
        "3. How do outliers effect linear regression and why?\n",
        "4. Under what circumstances will linear regression with a squared error measure be a good model?"
      ]
    },
    {
      "cell_type": "markdown",
      "metadata": {
        "id": "-E35DP882CYE"
      },
      "source": [
        "# Answers:-\n",
        "\n",
        "1. Upon introducing an outlier at the coordinates (0.1, 0.82), the optimized error function experienced the most significant increase in the error term. The error value elevated from 0.00428 to 0.0105.\n",
        "\n",
        "2. In a linear regression, the error that a data point contributes is directly proportional to how far it is from the regression line. The vertical distance between the observed  value and the value predicted value from the regression line is specifically known as the error term for a given data point.\n",
        "\n",
        "   The error term of a data point  will be small when the distance from regression line is less, but the error term of a data point will eventually increase when distance will also increase. And the outliers effects on linear regression is not equally propotionate.\n",
        "\n",
        "3. Regression line skew towards the wrong direction bacuase of the effect of the outliers on slope and intercept which eventaly reslut in misclassification. This happens whe the fucntion tries to accurately classify outliers by minimizing the distance between the regression line and data points.\n",
        "\n",
        "4. When there is little to no outliers in the dataset and a high correlation between the data, linear regression with squared error is a good model to use.\n"
      ]
    },
    {
      "cell_type": "markdown",
      "metadata": {
        "id": "NcO7osqt2CYE"
      },
      "source": [
        "# Task 3b"
      ]
    },
    {
      "cell_type": "markdown",
      "metadata": {
        "id": "dsayVa1W2CYE"
      },
      "source": [
        "For regression the Mean Squared Error measure is a useful error measure. In this task we will explore how useful mean squared error is for classification. To this end:\n",
        "\n",
        "- Use the provided code to classify the provided data using the linear classification algorithm\n",
        "- Note that linear classification is implemented by putting the output of the linear regression model through the sign function"
      ]
    },
    {
      "cell_type": "markdown",
      "metadata": {
        "id": "hwMzUnk62CYE"
      },
      "source": [
        "### Answer"
      ]
    },
    {
      "cell_type": "code",
      "execution_count": null,
      "metadata": {
        "id": "25GsNxnj2CYE"
      },
      "outputs": [],
      "source": [
        "def calc_class_error(w,X,y):\n",
        "    # implement your error function for linear classification here"
      ]
    },
    {
      "cell_type": "code",
      "execution_count": null,
      "metadata": {
        "id": "p8pJVB-s2CYE"
      },
      "outputs": [],
      "source": [
        "def linclass_predict(w,X):\n",
        "    # implement your linear classification algorithm here"
      ]
    },
    {
      "cell_type": "markdown",
      "metadata": {
        "id": "5hTXOPjs2CYE"
      },
      "source": [
        "You may add as many cells below as you require."
      ]
    },
    {
      "cell_type": "markdown",
      "metadata": {
        "id": "L_In9H642CYE"
      },
      "source": [
        "##  Describe and Explain\n",
        "Describe the impact of the outlier on both models. Explain why logistic regression is less sensitive to the outlier."
      ]
    },
    {
      "cell_type": "markdown",
      "metadata": {
        "id": "-4hXNmDD2CYE"
      },
      "source": [
        "Provide your answer in this cell.."
      ]
    },
    {
      "cell_type": "markdown",
      "metadata": {
        "id": "DjOqq-QG2CYE"
      },
      "source": [
        " # Reflection\n",
        " Once you have completed all tasks in this notebook and have studied all other materials for this E-tivity (resources, lectures and live sessions), answer the following questions.\n",
        "<ol>\n",
        "<li>Summarise your understanding of how the Hoeffding bound, the concept of 'shattering', break points and the growth function inform the VC bound for a binary classifier. Also discuss how this relates to the general rule of thumb in machine learning that one needs a number of data points at least equal to 10 times the VC bound.</li>\n",
        "<li>Summarise your understanding of the approximation-generalisation trade-off in terms of complexity, bias and variance of a model, and the resulting under/overfitting given the available data. </li>\n",
        "    </ol>"
      ]
    },
    {
      "cell_type": "markdown",
      "metadata": {
        "id": "d7BMYltd2CYE"
      },
      "source": [
        "## 1.\n",
        "\n",
        "In my understanding of machine learning theory, the Hoeffding bound gives me a reassuring statistical promise: if I have enough data, the average error I see in my sample is probably not too far from the error I can expect in the real world. This is especially handy when Im trying to gauge how well my binary classifier is doing.\n",
        "\n",
        "When I talk about a model's ability to \"shatter\" data, I'm referring to its power to draw boundaries that perfectly separate all the possible arrangements of my data points into two categories. The more data arrangements my model can perfectly label, the more complex it is. The VC dimension is a number that represents this complexity. Its the largest number of points my model can shatter. If my model can shatter any number of points, that means it's incredibly complex, in fact that the VC dimension is said to be infinite.\n",
        "\n",
        "Then there's the idea of breakpoints, which is the flip side of shattering. A breakpoint is the smallest number of points that my model just can't shatter, no matter how hard it tries. This concept helps me understand the limitations of my model.\n",
        "\n",
        "The growth function is another tool I use. It tells me the number of different ways my model can label a set of data points. As my data set gets bigger, I look at how the number of these labeling ways grows. It's like taking the pulse of my model's complexity as the data expands.\n",
        "\n",
        "All of these pieces come together in the VC bound. It's a formula that takes into account the complexity of my model (its VC dimension), the size of my sample, and the performance of my model on that sample. It gives me an upper limit on the error I might expect to see in the future.\n",
        "\n",
        "The rule of thumb that I should have at least ten times as many data points as the VC dimension of my model stems from the VC bound. Its like a guideline to make sure I have enough data for my model to learn the patterns without just memorizing the noise. If my model is very complex (a high VC dimension), I need a lot of data to train it well. This helps me avoid a common pitfall in machine learning called overfitting, where my model is so tuned to the training data that it performs poorly on any new data it sees.\n",
        "\n",
        "\n",
        "\n",
        "\n"
      ]
    },
    {
      "cell_type": "markdown",
      "metadata": {
        "id": "_xdXkeiW2CYF"
      },
      "source": [
        "## 2.\n",
        "\n",
        "According to what I understand, the approximation-generalization trade-off in machine learning is about striking the correct balance between a model's capacity to generalize successfully to new, unseen data and its ability to approximate training data, or how complicated a model may be. The performance of the model is directly impacted by this balance, making it essential.\n",
        "\n",
        "The term \"complexity\" describes how detailed or adaptable the model is. More intricacies and patterns in the data may be captured by a more sophisticated model. A model may begin to capture both the noise in the training data and the real underlying patterns, however, if it is too complicated. We refer to this state of affairs as overfitting. When a model exhibits outstanding performance on training data but subpar performance on fresh, unknown data, it is said to be overfitting. This is because the model has effectively memorized the training data, including its noise and anomalies, instead of learning the underlying patterns.\n",
        "\n",
        "However, a too simplistic model may result in underfitting since it is unable to identify all of the significant patterns and correlations in the data. Underfitting occurs when the model performs poorly on both fresh, unseen data and training data because it is too simple to understand the underlying structure of the data.\n",
        "\n",
        "Two concepts which help in our understanding of machine learning models' behavior in this situation are bias and variance. Error resulting from overly basic assumptions in the learning algorithm is referred to as bias. Excessive bias may lead to underfitting, when the model fails to recognize important relationships between features and desired outputs. Contrarily, variance describes the inaccuracy brought on by an overly sophisticated learning process, which causes the model to become overfitting and highly susceptible to high noise levels in the training set.\n",
        "The objective is to minimize both variance and bias in order to maximize the model's capacity to generalize successfully to new data. Finding this balance is essential to creating reliable and accurate models that can function effectively on fresh, untested data in addition to the training set. In order to make sure that the model neither overfits nor underfits the data, achieving this balance often entails applying strategies like regularization, cross-validation, and hyperparameter tweaking to choose the appropriate model complexity.\n",
        "\n",
        "\n",
        "\n",
        "\n",
        "\n",
        "\n",
        "\n",
        "\n"
      ]
    },
    {
      "cell_type": "markdown",
      "source": [
        "References -\n",
        "\n",
        "-https://towardsdatascience.com/understanding-the-bias-variance-tradeoff-165e6942b229\n",
        "-https://medium.com/@khang.pham.exxact/overfitting-generalization-the-bias-variance-tradeoff-5800f8c2200\n",
        "-https://en.wikipedia.org/wiki/Bias%E2%80%93variance_tradeoff\n",
        "\n",
        "And the Lecture Videos given."
      ],
      "metadata": {
        "id": "oQwLmwUNYJc1"
      }
    },
    {
      "cell_type": "markdown",
      "metadata": {
        "id": "_NWUY3vz2CYM"
      },
      "source": [
        "<hr style=\"border:2px solid gray\">\n",
        "\n",
        "# Appendix"
      ]
    },
    {
      "cell_type": "markdown",
      "metadata": {
        "id": "TbAEwMlW2CYM"
      },
      "source": [
        "## Demonstration of effect of outlier on logistic regression decision boundary for comparision with linear classification\n",
        "\n",
        "Below code demonstrates the effect of an outlier on the decision boundary chosen by logistic regression. You can use this code to compare the effect of outliers in a classification algorithm using mean square error as the error measure with that in a classification algorithm using log likelihood as the error measure. Moreover, below code provides some good hints for plotting the decision boundary in task 3b :-)."
      ]
    },
    {
      "cell_type": "markdown",
      "metadata": {
        "id": "NDUf76nd2CYM"
      },
      "source": [
        "Load data:"
      ]
    },
    {
      "cell_type": "code",
      "execution_count": null,
      "metadata": {
        "id": "c0jw5oXR2CYM"
      },
      "outputs": [],
      "source": [
        "data = np.loadtxt(\"Et1_Task3b.csv\", delimiter=\",\")\n",
        "X = data[:,0:2]\n",
        "y=data[:,2]"
      ]
    },
    {
      "cell_type": "markdown",
      "metadata": {
        "id": "TxwOQ-Iz2CYM"
      },
      "source": [
        "Fit model:"
      ]
    },
    {
      "cell_type": "code",
      "execution_count": null,
      "metadata": {
        "id": "Wefd2PW92CYN"
      },
      "outputs": [],
      "source": [
        "estimator = LogisticRegression(solver='lbfgs')\n",
        "estimator.fit(X,y)\n",
        "estimator.score(X,y)"
      ]
    },
    {
      "cell_type": "markdown",
      "metadata": {
        "id": "XtDHiCPX2CYN"
      },
      "source": [
        "Extract weights from model:"
      ]
    },
    {
      "cell_type": "code",
      "execution_count": null,
      "metadata": {
        "id": "svreghzS2CYN"
      },
      "outputs": [],
      "source": [
        "w_lr = estimator.intercept_\n",
        "w_lr=np.append(w_lr, estimator.coef_)\n",
        "w_lr"
      ]
    },
    {
      "cell_type": "markdown",
      "metadata": {
        "id": "FpshhMLl2CYN"
      },
      "source": [
        "Add outlier:"
      ]
    },
    {
      "cell_type": "code",
      "execution_count": null,
      "metadata": {
        "id": "SKIas_MS2CYN"
      },
      "outputs": [],
      "source": [
        "X = np.append(X,[[-2,6]], axis=0)\n",
        "y = np.append(y,[1],axis=0)"
      ]
    },
    {
      "cell_type": "markdown",
      "metadata": {
        "id": "p5Q3hsl_2CYN"
      },
      "source": [
        "Fit model with outlier:"
      ]
    },
    {
      "cell_type": "code",
      "execution_count": null,
      "metadata": {
        "id": "i4-lmKrA2CYN"
      },
      "outputs": [],
      "source": [
        "estimator = LogisticRegression(solver='lbfgs')\n",
        "estimator.fit(X,y)\n",
        "estimator.score(X,y)"
      ]
    },
    {
      "cell_type": "markdown",
      "metadata": {
        "id": "5G-xBvw02CYN"
      },
      "source": [
        "Extract new weight vector from model:"
      ]
    },
    {
      "cell_type": "code",
      "execution_count": null,
      "metadata": {
        "id": "jkz4hxaL2CYN"
      },
      "outputs": [],
      "source": [
        "w_lr_2 = estimator.intercept_\n",
        "w_lr_2=np.append(w_lr_2, estimator.coef_)\n",
        "w_lr_2"
      ]
    },
    {
      "cell_type": "markdown",
      "metadata": {
        "id": "czaLwzl32CYO"
      },
      "source": [
        "Plot original and new decision boundary using weight vectors. Decision boundary is defined by equation: $w_0+x_0\\cdot w_1+x_1 \\cdot w_2=0 \\rightarrow x_2 = -\\frac{w_0}{w_2}-x_1\\frac{w_1}{w_2}$"
      ]
    },
    {
      "cell_type": "code",
      "execution_count": null,
      "metadata": {
        "id": "tcYQDsWB2CYO"
      },
      "outputs": [],
      "source": [
        "y_p = estimator.predict(X)\n",
        "plt.scatter(X[:, 0], X[:, 1], c=y)\n",
        "plt.plot([-2,2],[-w_lr[0]/w_lr[2]+w_lr[1]/w_lr[2]*2,-w_lr[0]/w_lr[2]-w_lr[1]/w_lr[2]*2],'b',label=\"original data\")\n",
        "plt.plot([-2,2],[-w_lr_2[0]/w_lr_2[2]+w_lr_2[1]/w_lr_2[2]*2,-w_lr_2[0]/w_lr_2[2]-w_lr_2[1]/w_lr_2[2]*2],'r',label='data with outlier')\n",
        "\n",
        "plt.title(\"Data with outlier classified with logistic regression\")\n",
        "plt.legend(loc=\"upper right\")\n",
        "plt.show()\n",
        "1-sum(abs(y_p-y))/len(y)"
      ]
    },
    {
      "cell_type": "markdown",
      "source": [
        "## My clear understanding of Theory of Generalization.\n",
        "*After reading my peer's understanidngs and exteranl material. *\n",
        "\n",
        "\n",
        "\n",
        "\n",
        "\n",
        "\n",
        "\n",
        "\n",
        "\n",
        "My grasp of the Hoeffding bound has evolved to recognize its pivotal role as a probabilistic bound in the realm of machine learning. It specifically applies to scenarios involving independent and identically distributed (i.i.d) random variables. This bound is instrumental in quantifying the likelihood of observing significant deviations between the empirical means and the true mean. In my studies, I've learned that a key objective in machine learning is to estimate the real (approximate) probability distribution based on the sample data provided. This concept was made clearer to me through activities focused on the impact of outliers on data, illustrated by error plots that visibly change when an outlier is introduced. The Hoeffding bound thus serves as a measure of confidence, offering a statistical assurance of how accurately we are approximating the true distribution from our samples. This deeper understanding underscores the bound's critical importance in not just predicting the true error from empirical observations but in confidently navigating the complexities of data variability and distribution estimation in machine learning.\n",
        "\n",
        "To address the complexities associated with different hypothesis classes, I've come to appreciate the importance of the VC (Vapnik-Chervonenkis) dimension. This dimension evaluates the ability of a hypothesis class to accurately classify various data sets, a phenomenon known as shattering. This ability reflects the class's complexity or capacity. By building on the Hoeffding bound, the VC dimension introduces the VC bound, which sets a more stringent limit on the gap between empirical and true errors.\n",
        "\n",
        "The VC bound offers reassurance that, with a certain probability, the empirical error observed during training will not significantly exceed the true error for any hypothesis. This gap is influenced by the training set's size and the class's VC dimension. If the VC dimension is large relative to the training set size, it indicates the need for more data to achieve effective generalization.\n",
        "\n",
        "Understanding the VC bound has been a crucial step in my journey to grasp the nuances of machine learning generalization. It has shifted my focus from simply considering deviations in empirical estimates to a more refined view that considers the complexity of the hypothesis space. This has highlighted the importance of carefully balancing the complexity of machine learning models with the available amount of training data to ensure reliable generalization.\n"
      ],
      "metadata": {
        "id": "oVTKmY30aCrM"
      }
    }
  ],
  "metadata": {
    "colab": {
      "provenance": []
    },
    "kernelspec": {
      "display_name": "Python 3 (ipykernel)",
      "language": "python",
      "name": "python3"
    },
    "language_info": {
      "codemirror_mode": {
        "name": "ipython",
        "version": 3
      },
      "file_extension": ".py",
      "mimetype": "text/x-python",
      "name": "python",
      "nbconvert_exporter": "python",
      "pygments_lexer": "ipython3",
      "version": "3.8.8"
    }
  },
  "nbformat": 4,
  "nbformat_minor": 0
}